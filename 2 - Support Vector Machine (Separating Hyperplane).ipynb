{
 "cells": [
  {
   "cell_type": "code",
   "execution_count": 1,
   "metadata": {},
   "outputs": [],
   "source": [
    "from __future__ import division\n",
    "\n",
    "import numpy as np\n",
    "\n",
    "from math import sqrt, log\n",
    "\n",
    "%matplotlib inline\n",
    "import matplotlib.pyplot as plt\n",
    "from matplotlib.gridspec import GridSpec\n",
    "\n",
    "import seaborn as sns\n",
    "import colorcet as cc\n",
    "sns.set(style=\"white\", palette=\"deep\", color_codes=True)\n",
    "sns.set_context(\"notebook\", font_scale=1.2)\n",
    "plt.rcParams[\"axes.labelsize\"] = 16\n",
    "\n",
    "def force_aspect(ax, aspect=1):\n",
    "    \"\"\"force a matplotlib axis to have the specified aspect ratio on the screen\"\"\"\n",
    "    xlim = ax.get_xlim()\n",
    "    ylim = ax.get_ylim()\n",
    "    \n",
    "    a = (np.max(xlim) - np.min(xlim)) / (np.max(ylim) - np.min(ylim))\n",
    "    ax.set_aspect(a / aspect)\n",
    "    \n",
    "golden_ratio = 1.61803398875"
   ]
  },
  {
   "cell_type": "code",
   "execution_count": 2,
   "metadata": {},
   "outputs": [],
   "source": [
    "stopwords = [\"a\", \"about\", \"above\", \"according\", \"across\", \"affect\", \"after\", \\\n",
    "\"again\", \"against\", \"all\", \"almost\", \"alone\", \"along\", \"already\", \\\n",
    "\"also\", \"although\", \"always\", \"among\", \"an\", \"and\", \"another\", \"any\", \\\n",
    "\"anyone\", \"anything\", \"anywhere\", \"apt\", \"are\", \"argue\", \"around\", \\\n",
    "\"as\", \"asserted\", \"at\", \"back\", \"be\", \"became\", \"because\", \"become\", \\\n",
    "\"becomes\", \"been\", \"before\", \"behind\", \"being\", \"better\", \"between\", \\\n",
    "\"both\", \"but\", \"by\", \"can\", \"cannot\", \"common\", \"commonly\", \\\n",
    "\"comparable\", \"consequently\", \"considerable\", \"could\", \"course\", \\\n",
    "\"degree\", \"did\", \"do\", \"done\", \"down\", \"dramatically\", \"during\", \\\n",
    "\"each\", \"either\", \"enough\", \"even\", \"ever\", \"every\", \"everyone\", \\\n",
    "\"everything\", \"everywhere\", \"extent\", \"few\", \"find\", \"first\", \\\n",
    "\"follow\", \"for\", \"four\", \"from\", \"full\", \"further\", \"get\", \"give\", \\\n",
    "\"go\", \"had\", \"has\", \"have\", \"he\", \"hence\", \"her\", \"here\", \"herself\", \\\n",
    "\"him\", \"himself\", \"his\", \"how\", \"however\", \"if\", \"imply\", \\\n",
    "\"importance\", \"in\", \"interest\", \"into\", \"is\", \"it\", \"its\", \"itself\", \\\n",
    "\"join\", \"keep\", \"kind\", \"largely\", \"last\", \"least\", \"less\", \"made\", \\\n",
    "\"many\", \"may\", \"me\", \"might\", \"more\", \"moreover\", \"most\", \"mostly\", \\\n",
    "\"much\", \"must\", \"my\", \"myself\", \"necessary\", \"never\", \"next\", \"no\", \\\n",
    "\"nobody\", \"noone\", \"nor\", \"not\", \"nothing\", \"now\", \"nowhere\", \"of\", \\\n",
    "\"off\", \"often\", \"on\", \"once\", \"one\", \"only\", \"or\", \"other\", \"others\", \\\n",
    "\"our\", \"out\", \"over\", \"part\", \"particularly\", \"per\", \"perhaps\", \\\n",
    "\"possible\", \"principle\", \"put\", \"rather\", \"requisite\", \"same\", \\\n",
    "\"second\", \"see\", \"seem\", \"seemed\", \"seeming\", \"seems\", \"several\", \\\n",
    "\"shall\", \"she\", \"should\", \"show\", \"side\", \"since\", \"so\", \"some\", \\\n",
    "\"someone\", \"something\", \"somewhere\", \"still\", \"substance\", \"such\", \\\n",
    "\"suggest\", \"take\", \"than\", \"that\", \"the\", \"their\", \"them\", \"then\", \\\n",
    "\"there\", \"therefore\", \"these\", \"they\", \"thing\", \"this\", \"those\", \\\n",
    "\"though\", \"three\", \"through\", \"throughout\", \"thus\", \"to\", \"together\", \\\n",
    "\"too\", \"toward\", \"two\", \"typical\", \"typically\", \"under\", \\\n",
    "\"unexpected\", \"until\", \"up\", \"upon\", \"us\", \"use\", \"using\", \"very\", \\\n",
    "\"was\", \"we\", \"well\", \"were\", \"what\", \"when\", \"where\", \"whether\", \\\n",
    "\"which\", \"while\", \"whilst\", \"who\", \"whole\", \"whose\", \"why\", \"will\", \\\n",
    "\"with\", \"within\", \"without\", \"would\", \"yet\", \"you\", \"your\", \"yours\"]"
   ]
  },
  {
   "cell_type": "markdown",
   "metadata": {},
   "source": [
    "# Exploratory Analysis: Finding the words which best distinguish Madison from Hamilton"
   ]
  },
  {
   "cell_type": "markdown",
   "metadata": {},
   "source": [
    "We'll first try this the standard way, which is easy and informative, but unfortunately also inadequate for the present task.  The basic idea is to determine which words most distinguish Hamilton from Madison, build some linear function which discriminates them, and then apply this model to the disputed papers to determine their authorship.\n",
    "\n",
    "This approach is easy to do, but it suffers from two problems: since Hamilton and Madison are *so* similar in their writing style, most of what we fit is likely to be noise.  And more importantly, there's no way for a linear discriminant to attach an uncertainty to its determination... recall that my entire purpose here is to find an honest and quantitative assessment of the probability that each man wrote the disputed papers."
   ]
  },
  {
   "cell_type": "markdown",
   "metadata": {},
   "source": [
    "## Tally up word counts"
   ]
  },
  {
   "cell_type": "markdown",
   "metadata": {},
   "source": [
    "We want to tally up the occurrences of each of these stop words in our training sets.  We'll split the sets into chunks of 1000 words, so that we can also measure the variance:\n",
    "\n",
    "(My choice of 1000 words here is arbitrary, but I think it's reasonable for writing.  If word rates are Poisonian, then the mean rate and variance should both scale linearly with this fragment size.  Later, we'll see evidence that word rates are \"over-dispersed,\" with a larger variance than Poisson can accomodate.  Fortunately, this non-Poisson-ness seems to be intrisic to each word, and not to depend strongly on fragment length.  In either case, this arbitrary choice does not much influence my results.)"
   ]
  },
  {
   "cell_type": "code",
   "execution_count": 3,
   "metadata": {},
   "outputs": [],
   "source": [
    "import nltk\n",
    "from collections import Counter"
   ]
  },
  {
   "cell_type": "code",
   "execution_count": 4,
   "metadata": {},
   "outputs": [],
   "source": [
    "def sample_usage(filename):\n",
    "    \"\"\"Split filename into chunks of 1000 words, then tally the instances of\n",
    "    each of the stopwords in each chunk.  Return the mean and variance for\n",
    "    each word.\"\"\"\n",
    "    with open(filename, 'r') as f:\n",
    "        raw = f.read()\n",
    "\n",
    "    all_words = nltk.word_tokenize(raw.lower())\n",
    "\n",
    "    # split into chunks of 1000 words\n",
    "    n=1000\n",
    "    samples = [ all_words[i:i + n] \n",
    "                for i in xrange(0, len(all_words), n) ]\n",
    "\n",
    "    # tally each of the stopwords, for each chunk\n",
    "    c = [ Counter(s) for s in samples ]\n",
    "    x = [ [ cc[w] for w in stopwords ] for cc in c ]\n",
    "    x = np.asarray(x)\n",
    "\n",
    "    # return lists of the mean and variance for each stop word\n",
    "    mu = np.mean(x, axis=0)\n",
    "    va = np.var(x,  axis=0)\n",
    "    \n",
    "    return (mu, va)"
   ]
  },
  {
   "cell_type": "code",
   "execution_count": 5,
   "metadata": {},
   "outputs": [],
   "source": [
    "mu_m, v_m = sample_usage('../authors/madison-corpus-small.txt')\n",
    "mu_h, v_h = sample_usage('../authors/hamilton-corpus-small.txt')"
   ]
  },
  {
   "cell_type": "markdown",
   "metadata": {},
   "source": [
    "Find words for which the difference in Madison's and Hamilton's usage exceeds the variance:"
   ]
  },
  {
   "cell_type": "code",
   "execution_count": 6,
   "metadata": {},
   "outputs": [],
   "source": [
    "# recall that i floor the occurrence rates at one per million...\n",
    "# for Poissonian statistics, this also floors the variance at one per million\n",
    "delta = (mu_m - mu_h) / np.sqrt(v_m + v_h + 1.0e-6)\n",
    "delta = np.abs(delta)\n",
    "ind = np.flipud(np.argsort(delta))"
   ]
  },
  {
   "cell_type": "markdown",
   "metadata": {},
   "source": [
    "We can get a sense of the available information by making a quick plot:"
   ]
  },
  {
   "cell_type": "code",
   "execution_count": 7,
   "metadata": {},
   "outputs": [
    {
     "data": {
      "image/png": "[encoded data removed]",
      "text/plain": [
       "<matplotlib.figure.Figure at 0x114d2f810>"
      ]
     },
     "metadata": {},
     "output_type": "display_data"
    }
   ],
   "source": [
    "fig, ax = plt.subplots(figsize=(12,6))\n",
    "\n",
    "num = 10\n",
    "ax.plot(delta[ind][:num], '-o')\n",
    "ax.set_ylabel('discriminating power $\\Delta$')\n",
    "\n",
    "# label x-ticks with words and force it to show every one of them\n",
    "ax.set_xticks(range(num))\n",
    "labels = [ stopwords[i] for i in ind[:num] ]\n",
    "ax.set_xticklabels(labels, rotation=60);\n",
    "ax.axhline(1.0, color='k')\n",
    "\n",
    "ax.set_title('Most Important Words');\n",
    "force_aspect(ax, aspect=golden_ratio)"
   ]
  },
  {
   "cell_type": "markdown",
   "metadata": {},
   "source": [
    "Clearly, the first 3 points stand out from the rest, with $\\Delta > 1$ (if barely).  The rest of the detections are not technically significant.  So we'll have a look at these first three:"
   ]
  },
  {
   "cell_type": "code",
   "execution_count": 8,
   "metadata": {},
   "outputs": [
    {
     "name": "stdout",
     "output_type": "stream",
     "text": [
      "['on', 'there', 'upon']\n"
     ]
    }
   ],
   "source": [
    "keep = np.where(delta>1)[0]\n",
    "set1 = [ stopwords[i] for i in keep ]\n",
    "print set1"
   ]
  },
  {
   "cell_type": "markdown",
   "metadata": {},
   "source": [
    "And let's also keep everything with delta>0.5, just in case it helps us:"
   ]
  },
  {
   "cell_type": "code",
   "execution_count": 9,
   "metadata": {},
   "outputs": [
    {
     "name": "stdout",
     "output_type": "stream",
     "text": [
      "['and', 'at', 'by', 'kind', 'on', 'there', 'to', 'upon', 'would']\n"
     ]
    }
   ],
   "source": [
    "keep = np.where(delta>0.5)[0]\n",
    "set2 = [ stopwords[i] for i in keep ]\n",
    "print set2"
   ]
  },
  {
   "cell_type": "markdown",
   "metadata": {},
   "source": [
    "## Investigate key words by eye"
   ]
  },
  {
   "cell_type": "markdown",
   "metadata": {},
   "source": [
    "We can start by plotting our training set according to the occurrences of each of our key words.  If Madison's and Hamilton's clearly seperate, then this might suggest a way to tell them apart.  Once can always hope!"
   ]
  },
  {
   "cell_type": "code",
   "execution_count": 12,
   "metadata": {},
   "outputs": [],
   "source": [
    "import glob"
   ]
  },
  {
   "cell_type": "code",
   "execution_count": 22,
   "metadata": {},
   "outputs": [],
   "source": [
    "def measure(filename, wordlist=stopwords):\n",
    "    \"\"\"count frequency for each word in wordlist for the file filename\"\"\"\n",
    "    with open(filename, 'r') as f:\n",
    "        raw = f.read()\n",
    "\n",
    "    all_words = nltk.word_tokenize(raw.lower())\n",
    "    c = Counter(all_words)\n",
    "    \n",
    "    tally = [ c[word] for word in wordlist ]    \n",
    "    \n",
    "    return np.asarray(tally) / len(all_words)\n",
    "\n",
    "xm = [ measure(f, stopwords) for f in glob.glob('../authors/madison/*.txt')]\n",
    "xh = [ measure(f, stopwords) for f in glob.glob('../authors/hamilton/*.txt')]\n",
    "\n",
    "# transpose data so that each row corresponds to a word\n",
    "# (and each column corresponds to a different federalist paper)\n",
    "xm = np.asarray(xm).T\n",
    "xh = np.asarray(xh).T"
   ]
  },
  {
   "cell_type": "code",
   "execution_count": 28,
   "metadata": {},
   "outputs": [
    {
     "data": {
      "image/png": "[encoded data removed]",
      "text/plain": [
       "<matplotlib.figure.Figure at 0x116b7ed50>"
      ]
     },
     "metadata": {},
     "output_type": "display_data"
    }
   ],
   "source": [
    "fig=plt.figure(figsize=(8, 8))\n",
    "gs=GridSpec(2,2) # one row, two columns\n",
    "\n",
    "ax1=fig.add_subplot(gs[0,0]) # first row, first column\n",
    "ax2=fig.add_subplot(gs[0,1]) # first row, second column\n",
    "ax3=fig.add_subplot(gs[1,0]) # second row, first column\n",
    "ax4=fig.add_subplot(gs[1,1]) # second row, second column\n",
    "\n",
    "def compare_usage(x, word1, word2):\n",
    "    return (x[stopwords.index(word1)] * 1000, \n",
    "            x[stopwords.index(word2)] * 1000)\n",
    "\n",
    "def plot_comparison(w1, w2, ax):\n",
    "    x, y = compare_usage(xm, w1, w2)\n",
    "    ax.plot(x, y, 'o', color='r', label = 'madison')\n",
    "    x, y = compare_usage(xh, w1, w2)\n",
    "    ax.plot(x, y, '^', color='g', label = 'hamilton')\n",
    "    ax.set_xlabel(w1)\n",
    "    ax.set_ylabel(w2)\n",
    "\n",
    "plot_comparison('on',     'upon',  ax1)\n",
    "plot_comparison('to',     'there', ax2)\n",
    "plot_comparison('by',     'kind',  ax3)\n",
    "plot_comparison('whilst', 'while', ax4)\n",
    "\n",
    "ax1.legend(loc='upper right')\n",
    "    \n",
    "for ax in (ax1, ax2, ax3, ax4):\n",
    "    force_aspect(ax, 1)\n",
    "\n",
    "fig.suptitle('Word Frequencies (per 1000 words)')\n",
    "fig.tight_layout(rect=[0.0, 0.0, 1.0, 0.95])"
   ]
  },
  {
   "cell_type": "markdown",
   "metadata": {},
   "source": [
    "Clearly, Hamilton uses the word *upon* much more than Madison, while Madison uses the word *on* much more than Hamilton.  Hamilton uses the words *there* and *to* more frequently on average, but the scatter is so large that this doesn't seem very predictive at all.  The words *while* and *whilst* seem promising, but they're so rare that their non-occurrence in a paper hardly tells us anything at all.\n",
    "\n",
    "While the *on*-*upon* pair comes close, unfortunately none of these conclusively disambiguate Madison from Hamilton.  We can check whether some *linear combination* of these words disambiguates the authors, however: maybe in those few cases where Hamilton rarely uses *upon*, he also uses the words *there* and *to* a lot.  (This actually is a standard method, even if it seems like a stretch!)\n",
    "\n",
    "Equivalently, if we plot these points in some high-dimenional space, maybe there exists some hyperplane which does separate the points, even if it's not aligned with any of these axes.  We can search for such a hyperplane using the \"support vector machine\" implemented in scikit-learn:"
   ]
  },
  {
   "cell_type": "markdown",
   "metadata": {},
   "source": [
    "# Support Vector Machine"
   ]
  },
  {
   "cell_type": "markdown",
   "metadata": {},
   "source": [
    "## First, let's take a look at set1 (with $\\Delta > 1$):"
   ]
  },
  {
   "cell_type": "markdown",
   "metadata": {},
   "source": [
    "Tally up the occurrences of each word in our set for Madison's papers, for Hamilton's papers, and for the disputed papers."
   ]
  },
  {
   "cell_type": "code",
   "execution_count": 29,
   "metadata": {},
   "outputs": [],
   "source": [
    "mad_data_1 = [ measure(f, set1) for f in glob.glob('../authors/madison/*.txt') ]\n",
    "ham_data_1 = [ measure(f, set1) for f in glob.glob('../authors/hamilton/*.txt') ]\n",
    "\n",
    "test_files = glob.glob('../authors/unknown-federalist/*.txt')\n",
    "u_data_1 = [ measure(f, set1) for f in test_files ]"
   ]
  },
  {
   "cell_type": "markdown",
   "metadata": {},
   "source": [
    "For convenience, store the names of the papers as well:"
   ]
  },
  {
   "cell_type": "code",
   "execution_count": 30,
   "metadata": {},
   "outputs": [],
   "source": [
    "import re\n",
    "names = [ re.sub(r'.*?([0-9]+).*', r'\\1', f) for f in test_files ]"
   ]
  },
  {
   "cell_type": "code",
   "execution_count": 31,
   "metadata": {},
   "outputs": [],
   "source": [
    "from sklearn import svm"
   ]
  },
  {
   "cell_type": "code",
   "execution_count": 32,
   "metadata": {},
   "outputs": [
    {
     "name": "stdout",
     "output_type": "stream",
     "text": [
      "Federalist # 18 : madison\n",
      "Federalist # 19 : madison\n",
      "Federalist # 20 : madison\n",
      "Federalist # 49 : madison\n",
      "Federalist # 50 : madison\n",
      "Federalist # 51 : madison\n",
      "Federalist # 52 : madison\n",
      "Federalist # 53 : madison\n",
      "Federalist # 54 : madison\n",
      "Federalist # 55 : madison\n",
      "Federalist # 56 : madison\n",
      "Federalist # 57 : madison\n",
      "Federalist # 62 : madison\n",
      "Federalist # 63 : madison\n"
     ]
    }
   ],
   "source": [
    "# x is a list of points in 3-dimensional cartesian space\n",
    "# - one point for each file in the training set\n",
    "# - one dimenension for each word in set1\n",
    "#\n",
    "x = np.vstack((mad_data_1, ham_data_1))\n",
    "\n",
    "# y is a list of labels for each of the points.  let's let\n",
    "# 0 = 'Madison' and 1 = 'Hamilton'\n",
    "#\n",
    "y = [0] * len(mad_data_1) + [1] * len(ham_data_1)\n",
    "\n",
    "# we have a cartesian space of words, which honestly doesn't\n",
    "# make a whole lot of sense.  we'll scale each axis by its\n",
    "# standard deviation so that distances are measured in units\n",
    "# of the variance, rather than in units of 'upons'...\n",
    "#\n",
    "scale = np.std(x, axis=0)\n",
    "x = x / scale\n",
    "\n",
    "# use a linear support vector machine, to look for a simple\n",
    "# separating hyperplane\n",
    "#\n",
    "clf = svm.SVC(kernel='linear')\n",
    "clf.fit(x, y)\n",
    "\n",
    "# now let's see what the model predicts!\n",
    "result = clf.predict(u_data_1/scale)\n",
    "result = [ 'hamilton' if r else 'madison' for r in result ]\n",
    "\n",
    "for name, author in zip(names, result):\n",
    "    print \"Federalist #\", name, \":\", author"
   ]
  },
  {
   "cell_type": "markdown",
   "metadata": {},
   "source": [
    "So we can see that the model did in fact find a separating hyperplane, and that it implies that Madison wrote every single one of the disputed Federalist papers, including numbers 18, 19, and 20, which are traditionally thought to be co-written.\n",
    "\n",
    "This is great, but it's hard to know how certain we can be in this conclusion.  This has been the subject of more than 200 years of historical debate... are the historians *really* going to believe this analysis?\n",
    "\n",
    "As a first check, we can make sure the model correctly classifies all of the *known* federalist papers.  We trained the model on this data, so it doesn't seem like a whole lot to ask:"
   ]
  },
  {
   "cell_type": "code",
   "execution_count": 33,
   "metadata": {},
   "outputs": [
    {
     "name": "stdout",
     "output_type": "stream",
     "text": [
      "Should all be Madison:\n",
      "madison\n",
      "madison\n",
      "madison\n",
      "madison\n",
      "madison\n",
      "madison\n",
      "madison\n",
      "madison\n",
      "madison\n",
      "-> hamilton <-\n",
      "madison\n",
      "madison\n",
      "madison\n",
      "madison\n",
      "madison\n"
     ]
    }
   ],
   "source": [
    "result = clf.predict(mad_data_1/scale)\n",
    "result = [ '-> hamilton <-' if r else 'madison' for r in result ]\n",
    "\n",
    "print \"Should all be Madison:\"\n",
    "for author in result:\n",
    "    print author"
   ]
  },
  {
   "cell_type": "code",
   "execution_count": 34,
   "metadata": {},
   "outputs": [
    {
     "name": "stdout",
     "output_type": "stream",
     "text": [
      "Should all be Hamilton:\n",
      "hamilton\n",
      "hamilton\n",
      "hamilton\n",
      "hamilton\n",
      "hamilton\n",
      "hamilton\n",
      "hamilton\n",
      "-> madison <-\n",
      "hamilton\n",
      "hamilton\n",
      "hamilton\n",
      "hamilton\n",
      "hamilton\n",
      "hamilton\n",
      "hamilton\n"
     ]
    }
   ],
   "source": [
    "result = clf.predict(ham_data_1/scale)\n",
    "result = [ 'hamilton' if r else '-> madison <-' for r in result ]\n",
    "\n",
    "print \"Should all be Hamilton:\"\n",
    "for author in result[:15]:\n",
    "    print author"
   ]
  },
  {
   "cell_type": "markdown",
   "metadata": {},
   "source": [
    "Doh! We can inspect the model more visually by plotting each paper's distance \"above\" or \"below\" the separating hyperplane:"
   ]
  },
  {
   "cell_type": "code",
   "execution_count": 35,
   "metadata": {},
   "outputs": [],
   "source": [
    "b = clf.intercept_[0]\n",
    "v = clf.coef_[0] / scale"
   ]
  },
  {
   "cell_type": "code",
   "execution_count": 36,
   "metadata": {},
   "outputs": [],
   "source": [
    "m = [ np.dot(v, el) + b for el in mad_data_1 ]\n",
    "h = [ np.dot(v, el) + b for el in ham_data_1 ]\n",
    "u = [ np.dot(v, el) + b for el in   u_data_1 ]"
   ]
  },
  {
   "cell_type": "code",
   "execution_count": 37,
   "metadata": {},
   "outputs": [
    {
     "data": {
      "image/png": "[encoded data removed]",
      "text/plain": [
       "<matplotlib.figure.Figure at 0x116bb4050>"
      ]
     },
     "metadata": {},
     "output_type": "display_data"
    }
   ],
   "source": [
    "fig, ax = plt.subplots(figsize=(8, 8))\n",
    "\n",
    "ax.plot(np.random.normal(0.0, 1.0, len(m)), m, 'o', color='r', label='madison')\n",
    "ax.plot(np.random.normal(0.0, 1.0, len(h)), h, '^', color='g', label='hamilton')\n",
    "ax.plot(np.random.normal(0.0, 1.0, len(u)), u, 's', color='b', label='disputed')\n",
    "\n",
    "ax.axhline(y=0, color='k')\n",
    "\n",
    "ax.set_xticks([])\n",
    "ax.set_ylabel('\"Hamilton-ness\" (<0 if Madison, >0 if Hamilton)')\n",
    "ax.legend(loc=1);\n",
    "\n",
    "force_aspect(ax, 1)"
   ]
  },
  {
   "cell_type": "markdown",
   "metadata": {},
   "source": [
    "You can see that, although all of the disputed papers happen to fall below this plane, the separation really isn't all that strong.  You can also see (as we found before) that one each of Madison's and Hamilton's papers from the training set are mis-attributed.\n",
    "\n",
    "So unfortunately this method doesn't seem terribly reliable... certainly not enough to settle a 200+ year-old academic and political feud!\n",
    "\n",
    "We can redo it with the larger sample of words, just to see if we do any better:"
   ]
  },
  {
   "cell_type": "markdown",
   "metadata": {},
   "source": [
    "## Next, let's take a look at set2 (with $\\Delta > 0.5$):"
   ]
  },
  {
   "cell_type": "markdown",
   "metadata": {},
   "source": [
    "This data is noisier, but there is more of it, so maybe it will help us in our determinations.  For convenience, I'll roll our analysis into a function:"
   ]
  },
  {
   "cell_type": "code",
   "execution_count": 57,
   "metadata": {},
   "outputs": [],
   "source": [
    "def analyze_svc(wordlist):\n",
    "    # tally word occurrences in the the known and disputed federalist papers\n",
    "    mad_data = [ measure(f, wordlist) for f in glob.glob('../authors/madison/*.txt') ]\n",
    "    ham_data = [ measure(f, wordlist) for f in glob.glob('../authors/hamilton/*.txt') ]\n",
    "\n",
    "    test_files = glob.glob('../authors/unknown-federalist/*.txt')\n",
    "    u_data = [ measure(f, wordlist) for f in test_files ]\n",
    "    \n",
    "    # fit a linear classifier\n",
    "    x = np.vstack((mad_data, ham_data))\n",
    "    y = [0] * len(mad_data) + [1] * len(ham_data)\n",
    "\n",
    "    scale = np.std(x, axis=0) + 1.0e-6\n",
    "    x = x / scale\n",
    "\n",
    "    clf = svm.SVC(kernel='linear')\n",
    "    clf.fit(x, y)\n",
    "\n",
    "    # print predictions for the disputed papers\n",
    "    result = clf.predict(u_data/scale)\n",
    "    result = [ 'hamilton' if r else 'madison' for r in result ]\n",
    "\n",
    "    for name, author in zip(names, result):\n",
    "        print \"Federalist #\", name, \":\", author\n",
    "        \n",
    "    # plot the results visually\n",
    "    b = clf.intercept_[0]\n",
    "    v = clf.coef_[0] / scale\n",
    "    \n",
    "    m = [ np.dot(v, el) + b for el in mad_data ]\n",
    "    h = [ np.dot(v, el) + b for el in ham_data ]\n",
    "    u = [ np.dot(v, el) + b for el in   u_data ]\n",
    "    \n",
    "    fig, ax = plt.subplots(figsize=(8, 8))\n",
    "\n",
    "    ax.plot(np.random.normal(0.0, 1.0, len(m)), m, 'o', color='r', label='madison')\n",
    "    ax.plot(np.random.normal(0.0, 1.0, len(h)), h, '^', color='g', label='hamilton')\n",
    "    ax.plot(np.random.normal(0.0, 1.0, len(u)), u, 's', color='b', label='disputed')\n",
    "\n",
    "    ax.axhline(y=0, color='k')\n",
    "\n",
    "    ax.set_xticks([])\n",
    "    ax.set_ylabel('\"Hamilton-ness\" (<0 if Madison, >0 if Hamilton)')\n",
    "    ax.legend(loc='best');\n",
    "\n",
    "    force_aspect(ax, 1)\n",
    "    \n",
    "    return (b, v)"
   ]
  },
  {
   "cell_type": "code",
   "execution_count": 58,
   "metadata": {},
   "outputs": [
    {
     "name": "stdout",
     "output_type": "stream",
     "text": [
      "Federalist # 18 : madison\n",
      "Federalist # 19 : madison\n",
      "Federalist # 20 : madison\n",
      "Federalist # 49 : madison\n",
      "Federalist # 50 : madison\n",
      "Federalist # 51 : madison\n",
      "Federalist # 52 : madison\n",
      "Federalist # 53 : madison\n",
      "Federalist # 54 : madison\n",
      "Federalist # 55 : hamilton\n",
      "Federalist # 56 : madison\n",
      "Federalist # 57 : madison\n",
      "Federalist # 62 : madison\n",
      "Federalist # 63 : madison\n"
     ]
    },
    {
     "data": {
      "image/png": "[encoded data removed]",
      "text/plain": [
       "<matplotlib.figure.Figure at 0x114ea9a10>"
      ]
     },
     "metadata": {},
     "output_type": "display_data"
    }
   ],
   "source": [
    "b, v = analyze_svc(set2)"
   ]
  },
  {
   "cell_type": "markdown",
   "metadata": {},
   "source": [
    "Oh, no -- one of our determinations has changed!  Now it looks like Hamilton may have written Federalist #55.\n",
    "\n",
    "Again, we can plot distances from the hyperplane to gauge how well the model performs:"
   ]
  },
  {
   "cell_type": "markdown",
   "metadata": {},
   "source": [
    "Now we've separated our training data much more effectively, which looks promising.  But note that Federalist #55 has moved significantly, and is now *firmly* in Hamilton's territory.  It's not comforting to see such a marked change in our predictions.\n",
    "\n",
    "Moreover, I just don't think this model is very well-motivated for our present calculation.  Even if Hamilton tends to us \"on\" while Madison prefers \"upon,\" and Hamilton uses \"there\" more than Madison, who says that in the few instances where Madison uses \"on\" more often, he also uses \"there\" less often?  I see no reason why such a correlation should exist.\n",
    "\n",
    "The computer will always be able to find such correlations, if you give it enough words to check, but I think it's essentially just picking up on noise in the training data.\n",
    "\n",
    "To demonstrate the fungibility of our model, I can add Federalist #55 (which is very clearly on the Hamilton side) to the training data.  If I tell the model that Madison wrote it, the SVM will happily find a new separating hyperplane, and now reports that Madison wrote everything:"
   ]
  },
  {
   "cell_type": "code",
   "execution_count": 62,
   "metadata": {},
   "outputs": [
    {
     "name": "stdout",
     "output_type": "stream",
     "text": [
      "Federalist # 18 : madison\n",
      "Federalist # 19 : madison\n",
      "Federalist # 20 : madison\n",
      "Federalist # 49 : madison\n",
      "Federalist # 50 : madison\n",
      "Federalist # 51 : madison\n",
      "Federalist # 52 : madison\n",
      "Federalist # 53 : madison\n",
      "Federalist # 54 : madison\n",
      "Federalist # 55 : madison\n",
      "Federalist # 56 : madison\n",
      "Federalist # 57 : madison\n",
      "Federalist # 62 : madison\n",
      "Federalist # 63 : madison\n"
     ]
    }
   ],
   "source": [
    "ind = names.index('55')\n",
    "\n",
    "# tally word occurrences in the the known and disputed federalist papers\n",
    "mad_data = [ measure(f, set2) for f in glob.glob('../authors/madison/*.txt') ]\n",
    "ham_data = [ measure(f, set2) for f in glob.glob('../authors/hamilton/*.txt') ]\n",
    "\n",
    "test_files = glob.glob('../authors/unknown-federalist/*.txt')\n",
    "u_data = [ measure(f, set2) for f in test_files ]\n",
    "\n",
    "# fit a linear classifier, adding federalist #55 to the training data:\n",
    "x = np.vstack((mad_data, ham_data, [u_data[ind]]))\n",
    "y = [0] * len(mad_data) + [1] * len(ham_data) + [0]\n",
    "\n",
    "scale = np.std(x, axis=0) + 1.0e-6\n",
    "x = x / scale\n",
    "\n",
    "clf = svm.SVC(kernel='linear')\n",
    "clf.fit(x, y)\n",
    "\n",
    "# print predictions for the disputed papers\n",
    "result = clf.predict(u_data/scale)\n",
    "result = [ 'hamilton' if r else 'madison' for r in result ]\n",
    "\n",
    "for name, author in zip(names, result):\n",
    "    print \"Federalist #\", name, \":\", author"
   ]
  },
  {
   "cell_type": "markdown",
   "metadata": {},
   "source": [
    "So our model is sensitive to noise, has possibly been trained on noise, and is subject to huge swings in its predictions based on small changes in the training set.\n",
    "\n",
    "Nonetheless, this model is the best we have so far, and it does seem suggestive that Madison wrote many, most, or perhaps all of the disputed papers.  This model is in fact better than at least a few which have been published in peer-reviewed journals, so let's save it for posterity:"
   ]
  },
  {
   "cell_type": "code",
   "execution_count": 60,
   "metadata": {},
   "outputs": [
    {
     "data": {
      "text/plain": [
       "'H = -14.3 + (6.4 kind) + (4.7 upon) + (4.2 there) + (3.9 at) - (1.5 on) - (1.0 by) + (0.8 would) + (0.6 to) - (0.5 and)'"
      ]
     },
     "execution_count": 60,
     "metadata": {},
     "output_type": "execute_result"
    }
   ],
   "source": [
    "fact = 10 * v / np.linalg.norm(v)\n",
    "\n",
    "terms = sorted(zip(fact, set2), \n",
    "               key = lambda(a, b) : abs(a), \n",
    "               reverse=True)\n",
    "\n",
    "def format_term(term):\n",
    "    weight, word = term\n",
    "    \n",
    "    s = '-' if np.sign(weight) < 0 else '+'\n",
    "    weight = '{0:.1f}'.format(abs(weight))\n",
    "    return s + ' (' + weight + ' ' + word + ')'\n",
    "    \n",
    "\n",
    "'H = ' '{0:.1f}'.format(10*b) + ' ' + \\\n",
    "' '.join(map(format_term, terms))"
   ]
  },
  {
   "cell_type": "markdown",
   "metadata": {},
   "source": [
    "We might call this the \"Hamilton index:\" we predict Hamilton wrote the paper if $H>0$, otherwise Madison."
   ]
  },
  {
   "cell_type": "markdown",
   "metadata": {},
   "source": [
    "## What happens if we use *even more* data?"
   ]
  },
  {
   "cell_type": "markdown",
   "metadata": {},
   "source": [
    "I can try re-running the model with the *full* list of stopwords, hoping that I can surmount the problems with this method by overwhelming it with data:"
   ]
  },
  {
   "cell_type": "code",
   "execution_count": 56,
   "metadata": {},
   "outputs": [
    {
     "name": "stdout",
     "output_type": "stream",
     "text": [
      "Federalist # 18 : madison\n",
      "Federalist # 19 : madison\n",
      "Federalist # 20 : hamilton\n",
      "Federalist # 49 : madison\n",
      "Federalist # 50 : madison\n",
      "Federalist # 51 : madison\n",
      "Federalist # 52 : madison\n",
      "Federalist # 53 : madison\n",
      "Federalist # 54 : madison\n",
      "Federalist # 55 : madison\n",
      "Federalist # 56 : madison\n",
      "Federalist # 57 : madison\n",
      "Federalist # 62 : madison\n",
      "Federalist # 63 : madison\n"
     ]
    },
    {
     "data": {
      "image/png": "[encoded data removed]",
      "text/plain": [
       "<matplotlib.figure.Figure at 0x11521f3d0>"
      ]
     },
     "metadata": {},
     "output_type": "display_data"
    }
   ],
   "source": [
    "analyze_svc(stopwords)"
   ]
  },
  {
   "cell_type": "markdown",
   "metadata": {},
   "source": [
    "again, the predictions have changed, which is not encouraging.  Moreover, while the model now does an excellent job at separating the training data, it performs much less well on the disputed papers.  This is a clear sign of regression or selection effects; i.e., that we've trained the model on noise in the training data and that it isn't terribly predictive."
   ]
  }
 ],
 "metadata": {
  "kernelspec": {
   "display_name": "Python 2",
   "language": "python",
   "name": "python2"
  },
  "language_info": {
   "codemirror_mode": {
    "name": "ipython",
    "version": 2
   },
   "file_extension": ".py",
   "mimetype": "text/x-python",
   "name": "python",
   "nbconvert_exporter": "python",
   "pygments_lexer": "ipython2",
   "version": "2.7.10"
  }
 },
 "nbformat": 4,
 "nbformat_minor": 2
}
