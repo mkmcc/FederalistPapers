{
 "cells": [
  {
   "cell_type": "code",
   "execution_count": 1,
   "metadata": {
    "collapsed": true
   },
   "outputs": [],
   "source": [
    "from __future__ import division\n",
    "\n",
    "import numpy as np\n",
    "\n",
    "%matplotlib inline\n",
    "import matplotlib.pyplot as plt\n",
    "from matplotlib.gridspec import GridSpec\n",
    "\n",
    "import seaborn as sns\n",
    "import colorcet as cc\n",
    "sns.set(style=\"white\", palette=\"deep\", color_codes=True)\n",
    "sns.set_context(\"notebook\", font_scale=1.2)\n",
    "plt.rcParams[\"axes.labelsize\"] = 16\n",
    "\n",
    "def force_aspect(ax, aspect=1):\n",
    "    \"\"\"force a matplotlib axis to have the specified aspect ratio on the screen\"\"\"\n",
    "    xlim = ax.get_xlim()\n",
    "    ylim = ax.get_ylim()\n",
    "    \n",
    "    a = (np.max(xlim) - np.min(xlim)) / (np.max(ylim) - np.min(ylim))\n",
    "    ax.set_aspect(a / aspect)\n",
    "    \n",
    "golden_ratio = 1.61803398875"
   ]
  },
  {
   "cell_type": "markdown",
   "metadata": {},
   "source": [
    "# First Attempt at a Bayesian Calculation"
   ]
  },
  {
   "cell_type": "markdown",
   "metadata": {},
   "source": [
    "In the previous example, we wrote a linear function which was able to guess the authorship of a paper based on word usage... but how much confidence can we put into this determination?  This is a perfect time to use Bayes' Theorem!\n",
    "\n",
    "In this calculation I will assume that each author uses words randomly, following a Poisson distribution with some constant (but unknown) rate.  As a first guess, I'll assume this rate is exactly equal to the mean rate in the training set... an assumption which we will revisit later at the end of this notebook.\n",
    "\n",
    "I'll denote the true mean rates at which Madison and Hamilton use the word $w_i$ as $\\mu_{\\text{M},i}$ and $\\mu_{\\text{H},i}$, respectively.  For now I'll assume that these true are equal to the measured rates $\\hat{\\mu}_{\\text{M},i}$ and $\\hat{\\mu}_{\\text{H},i}$ in some training set.  *If* Madison uses this word following a Poisson distribution with an average rate $\\mu_{\\text{M},i}$, then the probability that he might use this word $x_i$ times in a document of length $n$ words is:\n",
    "\\begin{equation}\n",
    "P(x_i\\,|\\,\\text{M}) = \\frac{(n \\mu_{\\text{M},i})^{x_i} \\; \\exp(-n \\mu_{\\text{M},i})}{x_i !}\n",
    "\\end{equation}\n",
    "\n",
    "Now let's assume we have some document of length $n$ words in which the word $w_i$ occurs $x_i$ times.  I can use Bayes' theorem to re-express the above equation as the \"inverse probability\" that Madison wrote the doucument:\n",
    "\\begin{equation}\n",
    "P(\\text{M}\\,|\\,x_i) = \\frac{P(x_i\\,|\\,\\text{M}) \\, P(\\text{M})}{P(x_i)},\n",
    "\\end{equation}\n",
    "\n",
    "where $P(\\text{M})$ describes any prior information we have about the probability that Madison wrote the document, and $P(x_i)$ is a normalizing factor which can be neglected when we're only comparing the relative likelihood of two different authors.\n",
    "\n",
    "Using the above, the difference in log-likelihoods that this word $w_i$ could have occurred $x_i$ times in $n$ words of text by Madison and Hamilton is:\n",
    "\\begin{equation}\n",
    "\\lambda_i \\equiv \\ln P(x_i\\,|\\,\\text{M}) - \\ln P(x_i\\,|\\,\\text{H}) = x_i \\ln(\\mu_{\\text{M},i}/\\mu_{\\text{H},i}) - n (\\mu_{\\text{M},i} - \\mu_{\\text{H},i})\n",
    "\\end{equation}\n",
    "\n",
    "We want the relative likelihood that Madison or Hamilton wrote some document, which we can express as\n",
    "\\begin{equation}\n",
    "\\log\\left(\\frac{P(\\text{M}\\,|\\,\\vec{x})}{P(\\text{H}\\,|\\,\\vec{x})}\\right) = \\sum_i \\lambda_i\n",
    "\\end{equation}\n",
    "\n",
    "Let's try it!"
   ]
  },
  {
   "cell_type": "markdown",
   "metadata": {},
   "source": [
    "## First, we need to count word frequencies and measure Madison's and Hamilton's usage for some training set:"
   ]
  },
  {
   "cell_type": "markdown",
   "metadata": {},
   "source": [
    "We'll use the same set of stop words as before, and count them up in exactly the same way:"
   ]
  },
  {
   "cell_type": "code",
   "execution_count": 2,
   "metadata": {
    "collapsed": true
   },
   "outputs": [],
   "source": [
    "stopwords = [\"a\", \"about\", \"above\", \"according\", \"across\", \"affect\", \"after\", \\\n",
    "\"again\", \"against\", \"all\", \"almost\", \"alone\", \"along\", \"already\", \\\n",
    "\"also\", \"although\", \"always\", \"among\", \"an\", \"and\", \"another\", \"any\", \\\n",
    "\"anyone\", \"anything\", \"anywhere\", \"apt\", \"are\", \"argue\", \"around\", \\\n",
    "\"as\", \"asserted\", \"at\", \"back\", \"be\", \"became\", \"because\", \"become\", \\\n",
    "\"becomes\", \"been\", \"before\", \"behind\", \"being\", \"better\", \"between\", \\\n",
    "\"both\", \"but\", \"by\", \"can\", \"cannot\", \"common\", \"commonly\", \\\n",
    "\"comparable\", \"consequently\", \"considerable\", \"could\", \"course\", \\\n",
    "\"degree\", \"did\", \"do\", \"done\", \"down\", \"dramatically\", \"during\", \\\n",
    "\"each\", \"either\", \"enough\", \"even\", \"ever\", \"every\", \"everyone\", \\\n",
    "\"everything\", \"everywhere\", \"extent\", \"few\", \"find\", \"first\", \\\n",
    "\"follow\", \"for\", \"four\", \"from\", \"full\", \"further\", \"get\", \"give\", \\\n",
    "\"go\", \"had\", \"has\", \"have\", \"he\", \"hence\", \"her\", \"here\", \"herself\", \\\n",
    "\"him\", \"himself\", \"his\", \"how\", \"however\", \"if\", \"imply\", \\\n",
    "\"importance\", \"in\", \"interest\", \"into\", \"is\", \"it\", \"its\", \"itself\", \\\n",
    "\"join\", \"keep\", \"kind\", \"largely\", \"last\", \"least\", \"less\", \"made\", \\\n",
    "\"many\", \"may\", \"me\", \"might\", \"more\", \"moreover\", \"most\", \"mostly\", \\\n",
    "\"much\", \"must\", \"my\", \"myself\", \"necessary\", \"never\", \"next\", \"no\", \\\n",
    "\"nobody\", \"noone\", \"nor\", \"not\", \"nothing\", \"now\", \"nowhere\", \"of\", \\\n",
    "\"off\", \"often\", \"on\", \"once\", \"one\", \"only\", \"or\", \"other\", \"others\", \\\n",
    "\"our\", \"out\", \"over\", \"part\", \"particularly\", \"per\", \"perhaps\", \\\n",
    "\"possible\", \"principle\", \"put\", \"rather\", \"requisite\", \"same\", \\\n",
    "\"second\", \"see\", \"seem\", \"seemed\", \"seeming\", \"seems\", \"several\", \\\n",
    "\"shall\", \"she\", \"should\", \"show\", \"side\", \"since\", \"so\", \"some\", \\\n",
    "\"someone\", \"something\", \"somewhere\", \"still\", \"substance\", \"such\", \\\n",
    "\"suggest\", \"take\", \"than\", \"that\", \"the\", \"their\", \"them\", \"then\", \\\n",
    "\"there\", \"therefore\", \"these\", \"they\", \"thing\", \"this\", \"those\", \\\n",
    "\"though\", \"three\", \"through\", \"throughout\", \"thus\", \"to\", \"together\", \\\n",
    "\"too\", \"toward\", \"two\", \"typical\", \"typically\", \"under\", \\\n",
    "\"unexpected\", \"until\", \"up\", \"upon\", \"us\", \"use\", \"using\", \"very\", \\\n",
    "\"was\", \"we\", \"well\", \"were\", \"what\", \"when\", \"where\", \"whether\", \\\n",
    "\"which\", \"while\", \"whilst\", \"who\", \"whole\", \"whose\", \"why\", \"will\", \\\n",
    "\"with\", \"within\", \"without\", \"would\", \"yet\", \"you\", \"your\", \"yours\"]"
   ]
  },
  {
   "cell_type": "code",
   "execution_count": 3,
   "metadata": {
    "collapsed": true
   },
   "outputs": [],
   "source": [
    "import nltk\n",
    "from collections import Counter"
   ]
  },
  {
   "cell_type": "code",
   "execution_count": 4,
   "metadata": {
    "collapsed": true
   },
   "outputs": [],
   "source": [
    "def measure(filename):\n",
    "    \"\"\"tally up the occurrences of each stop word in document filename\"\"\"\n",
    "    with open(filename, 'r') as f:\n",
    "        raw = f.read()\n",
    "\n",
    "    all_words = nltk.word_tokenize(raw.lower())\n",
    "    num = len(all_words)\n",
    "\n",
    "    c = Counter(all_words)\n",
    "    x = [ c[w] for w in stopwords ]\n",
    "    \n",
    "    return (num, np.asarray(x))"
   ]
  },
  {
   "cell_type": "code",
   "execution_count": 5,
   "metadata": {
    "collapsed": true
   },
   "outputs": [],
   "source": [
    "# read in the training data for hamilton and madison\n",
    "nm, xm = measure('../authors/madison-corpus-small.txt')\n",
    "nh, xh = measure('../authors/hamilton-corpus-small.txt')\n",
    "\n",
    "# estimate mean count rate\n",
    "mu_m = xm/nm\n",
    "mu_h = xh/nh"
   ]
  },
  {
   "cell_type": "markdown",
   "metadata": {},
   "source": [
    "## Next, we can use Bayes' theorem and Poissonian statistics to infer the author of a particular file which isn't in the training set:"
   ]
  },
  {
   "cell_type": "code",
   "execution_count": 6,
   "metadata": {
    "collapsed": true
   },
   "outputs": [],
   "source": [
    "def guess_author(filename):\n",
    "    nu, xu = measure(filename)\n",
    "\n",
    "    # assume Poissonian statistics, with mean rates given by the training data\n",
    "    #\n",
    "    # floor the rates at one occurrence per million words.  (anybody can say \n",
    "    # anything once per million words, right?)\n",
    "    #\n",
    "    lnprob = xu * np.log((mu_m+1e-6)/(mu_h+1e-6)) - nu * (mu_m - mu_h)\n",
    "    return int(round(np.sum(lnprob)))"
   ]
  },
  {
   "cell_type": "code",
   "execution_count": 7,
   "metadata": {
    "collapsed": true
   },
   "outputs": [],
   "source": [
    "import glob"
   ]
  },
  {
   "cell_type": "markdown",
   "metadata": {},
   "source": [
    "First, let's just make sure that this reproduces the training data; i.e., that our model agrees that Madison wrote everything we said he did.  These numbers should all be positive:"
   ]
  },
  {
   "cell_type": "code",
   "execution_count": 8,
   "metadata": {},
   "outputs": [
    {
     "name": "stdout",
     "output_type": "stream",
     "text": [
      "Should all be positive:\n",
      "[64, 68, 70, 82, 82, 63, 45, 54, 67, 40, 89, 88, 74, 73, 106]\n"
     ]
    }
   ],
   "source": [
    "print \"Should all be positive:\"\n",
    "print map(guess_author, glob.glob('../authors/madison/*.txt'))"
   ]
  },
  {
   "cell_type": "markdown",
   "metadata": {},
   "source": [
    "And we'll repeat the exercise for Hamilton's (much larger) training set.  These numbers should all be negative:"
   ]
  },
  {
   "cell_type": "code",
   "execution_count": 9,
   "metadata": {},
   "outputs": [
    {
     "name": "stdout",
     "output_type": "stream",
     "text": [
      "Should all be negative:\n",
      "[-57, -120, -41, -96, -179, -38, -76, -57, -127, -39, -36, -46, -101, -97, -79, -41, -43, -91, -83, -77, -45, -77, -92, -34, -75, -72, -21, -31, -93, -108, -105, -122, -121, -56, -38, -86, -92, -107, -65, -20, -41, -102, -19, -173, -43, -78, -99, -104, -56, -37, -127]\n"
     ]
    }
   ],
   "source": [
    "print \"Should all be negative:\"\n",
    "print map(guess_author, glob.glob('../authors/hamilton/*.txt'))"
   ]
  },
  {
   "cell_type": "markdown",
   "metadata": {},
   "source": [
    "Finally, we run it on the disputed papers: positive numbers mean that Madison wrote them, negative numbers mean that Hamilton wrote them:"
   ]
  },
  {
   "cell_type": "code",
   "execution_count": 10,
   "metadata": {},
   "outputs": [
    {
     "name": "stdout",
     "output_type": "stream",
     "text": [
      "[47, 31, 10, 22, 33, 70, 42, 45, 38, 14, 46, 44, 34, 49]\n"
     ]
    }
   ],
   "source": [
    "print map(guess_author, glob.glob('../authors/unknown-federalist/*.txt'))"
   ]
  },
  {
   "cell_type": "markdown",
   "metadata": {},
   "source": [
    "Great, that was super-easy!  Moreover, we've found that Madison wrote all of the disputed papers, which certainly confirms my prejudice!\n",
    "\n",
    "...but solving a 200-year old historical mystery probably shouldn't be this easy!  And indeed there are two problems with this analysis, both potentially serious:\n",
    "1. Madison and Hamilton are under no oblication to follow the Poissonian distribution, regardless of anything I say, and\n",
    "2. We've assumed that the unknown mean rates at which they use words $\\mu_{\\text{M},i}$ and $\\mu_{\\text{H},i}$ are exactly equal to the measured rates $\\hat{\\mu}_{\\text{M},i}$ and $\\hat{\\mu}_{\\text{H},i}$.  Since our analysis selects out words with large fractional differences in $\\mu$, this creates a selection bias and we're sensitive to noise in the rare words in the training set.\n",
    "\n",
    "both problems lead us to overstate the certainty in our determinations, perhaps by many orders of magnitude.  Indeed, the certainties we're seeing should be alarming: can the probability that Hamilton wrote a certain paper based on his word usage *really* be $1-e^{-127}$, just on the basis of a few occurrences of the word *upon*?  And even though we see absurdly high probabilities for the disputed papers, they're significantly lower than we have for the training data... this is a clear sign of selection (or \"regression\") effects in our model."
   ]
  },
  {
   "cell_type": "markdown",
   "metadata": {},
   "source": [
    "# Checking our assumption of the Poisson distribution:"
   ]
  },
  {
   "cell_type": "markdown",
   "metadata": {},
   "source": [
    "The first possible problem is easy to check, but difficult to fix.  Hence, we'll check it first and fix it last.  We can quickly check the Poisson-ness of the data by glancing at some plots:"
   ]
  },
  {
   "cell_type": "code",
   "execution_count": 11,
   "metadata": {
    "collapsed": true
   },
   "outputs": [],
   "source": [
    "def sample_usage(filename):\n",
    "    \"\"\"split filename into chunks of 1000 words, then tally the instances of\n",
    "    each of the stopwords in each chunk\"\"\"\n",
    "    with open(filename, 'r') as f:\n",
    "        raw = f.read()\n",
    "\n",
    "    all_words = nltk.word_tokenize(raw.lower())\n",
    "\n",
    "    n=1000\n",
    "    samples = [ all_words[i:i + n] for i in xrange(0, len(all_words), n) ]\n",
    "\n",
    "    c = [ Counter(s) for s in samples ]\n",
    "    x = [ [cc[w] for w in stopwords] for cc in c ]\n",
    "\n",
    "    # transpose and return\n",
    "    return map(list, zip(*x))"
   ]
  },
  {
   "cell_type": "code",
   "execution_count": 12,
   "metadata": {
    "collapsed": true
   },
   "outputs": [],
   "source": [
    "data = sample_usage('../authors/madison-corpus-small.txt')"
   ]
  },
  {
   "cell_type": "code",
   "execution_count": 13,
   "metadata": {
    "collapsed": true
   },
   "outputs": [],
   "source": [
    "from scipy.stats import poisson"
   ]
  },
  {
   "cell_type": "code",
   "execution_count": 14,
   "metadata": {
    "collapsed": true
   },
   "outputs": [],
   "source": [
    "def fix_axes(ax, both=False):\n",
    "    xmin, xmax = ax.get_xlim()\n",
    "    xmin = np.max([0.0, xmin])\n",
    "    ax.set_xlim([xmin, xmax])\n",
    "\n",
    "    if both:\n",
    "        ax.set_ylim([0.0, 1.0])\n",
    "    \n",
    "def check_poisson_fit(word):\n",
    "    fig=plt.figure(figsize=(12, 4))\n",
    "    gs=GridSpec(1,2) # one row, two columns\n",
    "\n",
    "    ax1=fig.add_subplot(gs[0,0]) # first row, first column\n",
    "    ax2=fig.add_subplot(gs[0,1]) # second row, second column\n",
    "\n",
    "    # first, plot the probability distribution function.\n",
    "    # (this is a more direct comparison, but also noisy)\n",
    "    #\n",
    "    # start by plotting a histogram of the word's usage\n",
    "    counts = data[stopwords.index(word)]\n",
    "    sns.distplot(counts, kde=False, ax=ax1, norm_hist=True)\n",
    "\n",
    "    # overly the assumed Poisson distribution\n",
    "    x = np.arange(np.min(counts)-1, np.max(counts)+2)\n",
    "    y = poisson.pmf(x, np.mean(counts))\n",
    "    ax1.plot(x, y)\n",
    "    ax1.set_title('probability distribution')\n",
    "    \n",
    "    \n",
    "    # next, plot the cumulative distribution function, which is less noisy\n",
    "    #\n",
    "    # start with the empirical CDF, or EDF\n",
    "    x = np.sort(counts)\n",
    "    y = np.arange(1,len(counts)+1).astype(float)/len(counts)\n",
    "\n",
    "    # if the EDF is a stair-step plot, it's only defined at the top-left corner\n",
    "    # of each step (right-disontinuous)\n",
    "    ind = np.where(np.diff(x) != 0)[0]\n",
    "\n",
    "    # make a \"stair-step\" plot by repeating each index\n",
    "    x1 = np.repeat(x[ind], 2)[1:]\n",
    "    y1 = np.repeat(y[ind], 2)[:-1]\n",
    "\n",
    "    ax2.plot(x1, y1)\n",
    "    ax2.plot(x[ind], y[ind], 'o', color='c')\n",
    "    \n",
    "    # overlot the assumed Poisson distribution\n",
    "    x = np.arange(np.min(counts)-1, np.max(counts)+2)\n",
    "    y = poisson.cdf(x, np.mean(counts))\n",
    "    ax2.plot(x, y)\n",
    "    ax2.set_title('cumulative probability')\n",
    "\n",
    "    fix_axes(ax1)\n",
    "    fix_axes(ax2, both=True)\n",
    "    \n",
    "    force_aspect(ax1, golden_ratio)\n",
    "    force_aspect(ax2, golden_ratio)\n",
    "    \n",
    "    plt.suptitle(word)"
   ]
  },
  {
   "cell_type": "markdown",
   "metadata": {},
   "source": [
    "Our assumption seems ok for some words, such as *with*, *of*, and *this*:"
   ]
  },
  {
   "cell_type": "code",
   "execution_count": 15,
   "metadata": {},
   "outputs": [
    {
     "data": {
      "image/png": "[encoded data removed]",
      "text/plain": [
       "<matplotlib.figure.Figure at 0x118c14c10>"
      ]
     },
     "metadata": {},
     "output_type": "display_data"
    },
    {
     "data": {
      "image/png": "[encoded data removed]",
      "text/plain": [
       "<matplotlib.figure.Figure at 0x118c14a10>"
      ]
     },
     "metadata": {},
     "output_type": "display_data"
    },
    {
     "data": {
      "image/png": "[encoded data removed]",
      "text/plain": [
       "<matplotlib.figure.Figure at 0x11914b990>"
      ]
     },
     "metadata": {},
     "output_type": "display_data"
    }
   ],
   "source": [
    "check_poisson_fit('with')\n",
    "check_poisson_fit('of')\n",
    "check_poisson_fit('this')"
   ]
  },
  {
   "cell_type": "markdown",
   "metadata": {},
   "source": [
    "For other words, such as *the* and *his*, the assumption is not so good:"
   ]
  },
  {
   "cell_type": "code",
   "execution_count": 16,
   "metadata": {},
   "outputs": [
    {
     "data": {
      "image/png": "[encoded data removed]",
      "text/plain": [
       "<matplotlib.figure.Figure at 0x11924da90>"
      ]
     },
     "metadata": {},
     "output_type": "display_data"
    },
    {
     "data": {
      "image/png": "[encoded data removed]",
      "text/plain": [
       "<matplotlib.figure.Figure at 0x11924d750>"
      ]
     },
     "metadata": {},
     "output_type": "display_data"
    }
   ],
   "source": [
    "check_poisson_fit('the')\n",
    "check_poisson_fit('his')"
   ]
  },
  {
   "cell_type": "markdown",
   "metadata": {},
   "source": [
    "The word *his* is especially terrible: Madison uses it on average 1.2 times per thousand words, but he once used it 11 times!  According the the Poisson distribution, there is only a one-in-ten-million chance that this could happen, even though our model was *trained* on this same data!  Such a marked inconsistency clearly indicates a fault in the model"
   ]
  },
  {
   "cell_type": "code",
   "execution_count": 17,
   "metadata": {},
   "outputs": [
    {
     "name": "stdout",
     "output_type": "stream",
     "text": [
      "7.67333282283e-08\n",
      "243\n"
     ]
    }
   ],
   "source": [
    "counts = data[stopwords.index('his')]\n",
    "print poisson.pmf(np.max(counts), np.mean(counts))\n",
    "print len(data)"
   ]
  },
  {
   "cell_type": "markdown",
   "metadata": {},
   "source": [
    "Such tiny numbers are scary because they hugely influence the quoted certainty in our calculations.  Imagine the string of text in which Madison used the word *his* 11 times: based on that word alone, our model gives a probability of less than one in ten million that Madison wrote it.\n",
    "\n",
    "Now imagine that *every other word* points in Madison's direction, and against Hamilton's, with a total likelihood of a million to one.  That would seem like pretty darn good evidence that Madison wrote it, but our model would give 10:1 odds that Hamilton wrote it... just because of the word \"his.\"  And this is for something in the training set!\n",
    "\n",
    "But since it's easier to deal with the other problem, we'll take a look at that one first:"
   ]
  },
  {
   "cell_type": "markdown",
   "metadata": {},
   "source": [
    "# Handling uncertainty in the Poisson parameters"
   ]
  },
  {
   "cell_type": "markdown",
   "metadata": {},
   "source": [
    "Another key problem with our anaylsis is that we simply assumed that the \"true\" mean rates $\\mu$ are simply given by the estimated rates $\\hat{\\mu}$ measured in the training data.  But our training set is small, many of the words are rare, and so our esimates of the true rates probably aren't very good.\n",
    "\n",
    "Our likelihood model is sensitive to $\\Delta \\equiv \\mu_{\\text{M}} - \\mu_{\\text{H}}$.  But this is a randomly fluctuating quantity, and our fractional uncertainty in it can be huge for rare words.  This means that we strongly emphasize rare words which happened to have $\\Delta$ fluctuate upwards in magnitude in our training set, and that we strongly de-emphasize words which happened to have $\\Delta$ fluctuate towards zero.  It's not a good thing to be so sensitive to noise!\n",
    "\n",
    "A related problem is the question of what to do with words which don't appear in the training set.  The measured rate $\\hat{\\mu} = 0$, which we then floor to $\\hat{\\mu} = 10^{-6}$.  If this word then occurs in a document, we attach a probability of $10^{-6}$ to it.  (And if it occurs *twice*, we give it a probability of $10^{-12}$!)  Effectively, we're saying that authors are *never* allowed to use words which don't occur in the training set.  But this is a terrible assumption, especially when we're analyzing rare words with small training sets.  So we need to do better.\n",
    "\n",
    "In this section, I'll follow the (amazingly clever) analysis by Mosteller & Wallace (1964), which is one of the first non-classified Bayesian analyses of a real-world problem.  It's a classic paper, beautifully written, and well worth reading!\n",
    "\n",
    "We'll start by defining two new parameters: $\\sigma = \\mu_{\\text{M}} + \\mu_{\\text{H}}$, which measures the mean rate of usage for a word, and $\\tau = \\mu_{\\text{M}} / \\sigma$, which measures the word's ability to distinguish Madison from Hamilton.  I'll keep my arbitrary convention of flooring the rates at one per million:"
   ]
  },
  {
   "cell_type": "code",
   "execution_count": 18,
   "metadata": {
    "collapsed": true
   },
   "outputs": [],
   "source": [
    "sigma = mu_m + mu_h\n",
    "tau = mu_m / (sigma + 1.0e-6)"
   ]
  },
  {
   "cell_type": "code",
   "execution_count": 19,
   "metadata": {},
   "outputs": [
    {
     "data": {
      "image/png": "[encoded data removed]",
      "text/plain": [
       "<matplotlib.figure.Figure at 0x119195410>"
      ]
     },
     "metadata": {},
     "output_type": "display_data"
    }
   ],
   "source": [
    "plt.semilogx(sigma, tau, 'o')\n",
    "ax = plt.gca()\n",
    "ax.set_xlim([1e-5, 1e0]);\n",
    "ax.set_ylim([0, 1]);\n",
    "ax.set_xlabel(r'$\\sigma = \\mu_{\\mathrm{M}} + \\mu_{\\mathrm{H}}$')\n",
    "ax.set_ylabel(r'$\\tau = \\mu_{\\mathrm{M}} / (\\mu_{\\mathrm{M}} + \\mu_{\\mathrm{H}})$');"
   ]
  },
  {
   "cell_type": "markdown",
   "metadata": {},
   "source": [
    "Mosteller and Wallace propose to move forward by assuming that $\\sigma$ and $\\tau$ represent something fundamental about the way Madison and Hamilton choose their words, and that *they* follow some known disbribution, say, the $\\beta$ distribution:\n",
    "\\begin{equation}\n",
    "P(\\sigma,\\,\\tau) = \\frac{\\tau^{\\gamma-1} \\; (1-\\tau)^{\\gamma-1}}{B(\\gamma,\\gamma)},\n",
    "\\end{equation}\n",
    "\n",
    "with $\\gamma = \\beta_1 + \\beta_2 \\sigma$.\n",
    "\n",
    "Nevermind *why* this might be the case... I don't agree with it either.  For now, let's use it and try to reproduce Mosteller and Wallace, and then we'll see why this is brilliant.\n",
    "\n",
    "What we want to do is use this to estimate the difference between the \"true\" mean rates $\\mu$ (which we don't know) and the observed rates $\\hat{\\mu}$ (which may be subject to significant selection bias).  We'll do this by assuming that $\\sigma$ and $\\tau$ naturally follow the $\\beta$ distribution.  The prior probability for the parameters $\\sigma$ and $\\tau$ is therefore:\n",
    "\\begin{equation}\n",
    "\\log P(\\sigma, \\tau) = (\\beta_1 + \\beta_2 \\sigma - 1) \\times \\log[\\tau (1-\\tau)] + \\text{const.}\n",
    "\\end{equation}\n",
    "\n",
    "Using the Poisson distribution now with known parameters $\\sigma$ and $\\tau$, we have the conditional probability to see some word occur $x_{\\text{H}}$ in $n_{\\text{H}}$ words of Hamilton's text and $x_{\\text{M}}$ in $n_{\\text{M}}$ words of Madison's text:\n",
    "\\begin{align}\n",
    "\\log P(x_{\\text{H}},x_{\\text{M}}\\,|\\,\\sigma,\\tau) &= \n",
    "\\log\\left[\\frac{(n_{\\text{M}} \\mu_{\\text{M}})^{x_{\\text{M}}} \\; \\exp(- n_{\\text{M}} \\mu_{\\text{M}})}{x_{\\text{M}}!}\\right]\n",
    "+ \\log\\left[\\frac{(n_{\\text{H}} \\mu_{\\text{H}})^{x_{\\text{H}}} \\; \\exp(- n_{\\text{H}} \\mu_{\\text{H}})}{x_{\\text{H}}!}\\right] \\\\\n",
    "&= - n_{\\text{M}} \\sigma \\tau + x_{\\text{M}} \\log\\left[n_{\\text{M}} \\sigma \\tau \\right] - \\log(x_{\\text{M}}!) \\\\\n",
    "&\\phantom{=} - n_{\\text{H}} \\sigma (1-\\tau) + x_{\\text{H}} \\log\\left[n_{\\text{H}} \\sigma (1-\\tau) \\right] - \\log(x_{\\text{H}}!)\n",
    "\\end{align}\n",
    "\n",
    "Next, we use Bayes' theorem to estimate the true values of $\\sigma$ and $\\tau$, based on the observed frequencies $x$:\n",
    "\\begin{equation}\n",
    "\\log P(\\sigma, \\tau \\,|\\, x_{\\text{M}}, x_{\\text{H}}) = \\log P(x_{\\text{H}},x_{\\text{M}}\\,|\\,\\sigma,\\tau) + \\log P(\\sigma, \\tau) + \\text{const.}\n",
    "\\end{equation}\n",
    "\n",
    "after some algebra, this reduces to something we can type into the computer:\n",
    "\\begin{align}\n",
    "\\log P(\\sigma, \\tau \\,|\\, x_{\\text{M}}, x_{\\text{H}}) \n",
    "&= (x_{\\text{M}} + x_{\\text{H}}) \\log\\sigma \\\\\n",
    "&\\phantom{=} + (x_{\\text{M}} + \\beta_1 + \\beta_2 \\sigma - 1) \\log \\tau \\\\\n",
    "&\\phantom{=} + (x_{\\text{H}} + \\beta_1 + \\beta_2 \\sigma - 1) \\log(1-\\tau)\\\\\n",
    "&\\phantom{=} + (n_{\\text{H}} - n_{\\text{M}}) \\sigma (\\tau-1/2) - \\frac{1}{2} (n_{\\text{H}} + n_{\\text{M}}) \\sigma\\\\\n",
    "&\\phantom{=} + \\text{const.}\n",
    "\\end{align}\n",
    "(phew!)\n",
    "\n",
    "For each word in the training set, we can then count up the occurrences $x_{\\text{M}}$ and $x_{\\text{H}}$ and then use the above equation to find the maximum likelihood estimate for the parameters $\\sigma$ and $\\tau$.  We then use $\\sigma$ and $\\tau$ to solve for the mean rates $\\mu_{\\text{M}} = \\sigma \\tau$ and $\\mu_{\\text{H}} = \\sigma(1-\\tau)$, which may be different from the observed mean rates $\\hat{\\mu}_{\\text{M}} = x_{\\text{M}}/n_{\\text{M}}$ and $\\hat{\\mu}_{\\text{H}} = x_{\\text{H}}/n_{\\text{H}}$.\n",
    "\n",
    "We can then redo our previous calculation using the new-and-improved estimates for $\\mu$."
   ]
  },
  {
   "cell_type": "code",
   "execution_count": 20,
   "metadata": {
    "collapsed": true
   },
   "outputs": [],
   "source": [
    "from math import log\n",
    "from scipy.optimize import minimize"
   ]
  },
  {
   "cell_type": "code",
   "execution_count": 21,
   "metadata": {
    "collapsed": true
   },
   "outputs": [],
   "source": [
    "def est_sigma_tau(xm, xh):\n",
    "    \"\"\"maximum-likelihood estimate for the parameters sigma and tau,\n",
    "    based on observed occurrence rates x\"\"\"\n",
    "    \n",
    "    # arbitrary choice of parameters...\n",
    "    beta_1, beta_2 = 10, 0\n",
    "    \n",
    "    def minus_lnprob(theta):\n",
    "        s, t = theta # sigma and tau\n",
    "        \n",
    "        t1 = (xm + xh) * log(s)\n",
    "        t2 = (xm + beta_1 + beta_2 * s - 1) * log(t)\n",
    "        t3 = (xh + beta_1 + beta_2 * s - 1) * log(1.0-t)\n",
    "        t4 = (nh-nm) * s * (t-0.5) - 0.5*(nm+nh) * s\n",
    "        \n",
    "        return -1.0*(t1 + t2 + t3 + t4)\n",
    "\n",
    "    # s must be >= 0, t must be between zero and 1\n",
    "    bnds = ((1e-10, None), (1e-10, 1.0-1e-10))\n",
    "    \n",
    "    res = minimize(minus_lnprob, (1, 0.5), method='L-BFGS-B', bounds=bnds)\n",
    "    return (res.x, res.success)"
   ]
  },
  {
   "cell_type": "code",
   "execution_count": 22,
   "metadata": {
    "collapsed": true
   },
   "outputs": [],
   "source": [
    "sols = [ est_sigma_tau(m, h) for m, h in zip(xm, xh) ]"
   ]
  },
  {
   "cell_type": "markdown",
   "metadata": {},
   "source": [
    "Since numerical minimization is subject to errors, we should quickly check that all is ok:"
   ]
  },
  {
   "cell_type": "code",
   "execution_count": 23,
   "metadata": {},
   "outputs": [
    {
     "name": "stdout",
     "output_type": "stream",
     "text": [
      "1 / 243 models failed\n"
     ]
    }
   ],
   "source": [
    "suc = [ success for val, success in sols ]\n",
    "sols = np.asarray([ val for val, success in sols ])\n",
    "print suc.count(False), \"/\", len(suc), \"models failed\""
   ]
  },
  {
   "cell_type": "markdown",
   "metadata": {},
   "source": [
    "Let's plot the estimated values of $\\sigma$ and $\\tau$, compared to the measured values.  I'll use the subscript \"ml\" to stand for \"maximum likelihood\":"
   ]
  },
  {
   "cell_type": "code",
   "execution_count": 24,
   "metadata": {},
   "outputs": [],
   "source": [
    "sigma_ml = sols[:,0]\n",
    "tau_ml   = sols[:,1]"
   ]
  },
  {
   "cell_type": "code",
   "execution_count": 25,
   "metadata": {},
   "outputs": [
    {
     "data": {
      "image/png": "[encoded data removed]",
      "text/plain": [
       "<matplotlib.figure.Figure at 0x119e5dd10>"
      ]
     },
     "metadata": {},
     "output_type": "display_data"
    }
   ],
   "source": [
    "fig=plt.figure(figsize=(12, 5.5))\n",
    "gs=GridSpec(1,2) # one row, two columns\n",
    "\n",
    "ax1=fig.add_subplot(gs[0,0]) # first row, first column\n",
    "ax2=fig.add_subplot(gs[0,1]) # second row, second column\n",
    "\n",
    "ax1.loglog(sigma+1e-6, sigma_ml+1e-6, 'o')\n",
    "ax1.loglog([1e-6, 1e0], [1e-6, 1e0], color='k')\n",
    "ax1.set_xlim([1e-6, 1e0]);\n",
    "ax1.set_ylim([1e-6, 1e0]);\n",
    "ax1.set_xlabel(r'$\\sigma_{\\mathrm{obs}}$')\n",
    "ax1.set_ylabel(r'$\\sigma_{\\mathrm{ml}}$')\n",
    "\n",
    "ax2.plot(np.abs(tau-0.5), tau_ml - tau, 'o')\n",
    "ax2.set_xlabel(r'$|\\tau - 0.5|$')\n",
    "ax2.set_ylabel(r'$\\tau_{\\mathrm{ml}} - \\tau_{\\mathrm{obs}}$');"
   ]
  },
  {
   "cell_type": "markdown",
   "metadata": {},
   "source": [
    "You can see that, for large $\\sigma$, or for $\\tau$ close to $1/2$, we keep the measured values.  But when $\\sigma$ is very small, or if $\\tau$ is close to either 0 or 1, then we modify the numbers a bit to push $\\tau$ slightly closer to $1/2$.\n",
    "\n",
    "We can also investigate how the mean rates $\\mu$ change:"
   ]
  },
  {
   "cell_type": "code",
   "execution_count": 26,
   "metadata": {
    "collapsed": true
   },
   "outputs": [],
   "source": [
    "mu_m_ml = sigma_ml * tau_ml\n",
    "mu_h_ml = sigma_ml * (1.0-tau_ml)"
   ]
  },
  {
   "cell_type": "code",
   "execution_count": 27,
   "metadata": {},
   "outputs": [
    {
     "data": {
      "image/png": "[encoded data removed]",
      "text/plain": [
       "<matplotlib.figure.Figure at 0x118fdaf10>"
      ]
     },
     "metadata": {},
     "output_type": "display_data"
    }
   ],
   "source": [
    "fig=plt.figure(figsize=(12, 5.5))\n",
    "gs=GridSpec(1,2) # one row, two columns\n",
    "\n",
    "ax1=fig.add_subplot(gs[0,0]) # first row, first column\n",
    "ax2=fig.add_subplot(gs[0,1]) # second row, second column\n",
    "\n",
    "ax1.loglog(mu_m, mu_m_ml, 'o')\n",
    "ax1.loglog([1e-6, 1e0], [1e-6, 1e0], color='k')\n",
    "ax1.set_xlim([1e-6, 1e0]);\n",
    "ax1.set_ylim([1e-6, 1e0]);\n",
    "ax1.set_xlabel('$\\mu_{\\mathrm{M}}$')\n",
    "ax1.set_ylabel('$\\mu_{\\mathrm{M,ml}}$')\n",
    "\n",
    "ax2.loglog(mu_h, mu_h_ml, 'o')\n",
    "ax2.loglog([1e-6, 1e0], [1e-6, 1e0], color='k')\n",
    "ax2.set_xlim([1e-6, 1e0]);\n",
    "ax2.set_ylim([1e-6, 1e0]);\n",
    "ax2.set_xlabel('$\\mu_{\\mathrm{H}}$')\n",
    "ax2.set_ylabel('$\\mu_{\\mathrm{H,ml}}$');"
   ]
  },
  {
   "cell_type": "markdown",
   "metadata": {},
   "source": [
    "For the most part, low values of $\\mu$ get scattered slightly upwards.\n",
    "\n",
    "Let's use the updated estimates for $\\mu$ to improve our inferences about authorship:"
   ]
  },
  {
   "cell_type": "code",
   "execution_count": 28,
   "metadata": {
    "collapsed": true
   },
   "outputs": [],
   "source": [
    "def guess_author_new(filename):\n",
    "    nu, xu = measure(filename)\n",
    "    lnprob = xu * np.log((mu_m_ml+1e-6)/(mu_h_ml+1e-6)) - nu * (mu_m_ml - mu_h_ml)\n",
    "    return np.sum(lnprob)"
   ]
  },
  {
   "cell_type": "code",
   "execution_count": 29,
   "metadata": {
    "collapsed": true
   },
   "outputs": [],
   "source": [
    "a1 = map(guess_author,     glob.glob('../authors/unknown-federalist/*.txt'))\n",
    "a2 = map(guess_author_new, glob.glob('../authors/unknown-federalist/*.txt'))"
   ]
  },
  {
   "cell_type": "code",
   "execution_count": 30,
   "metadata": {
    "collapsed": true
   },
   "outputs": [],
   "source": [
    "import pandas as pd"
   ]
  },
  {
   "cell_type": "code",
   "execution_count": 31,
   "metadata": {
    "collapsed": true
   },
   "outputs": [],
   "source": [
    "df = pd.DataFrame({'naive' : np.round(a1).astype(int),\n",
    "                   'ML'    : np.round(a2).astype(int),\n",
    "                   'Delta' : np.round(np.asarray(a2) - np.asarray(a1)).astype(int)})"
   ]
  },
  {
   "cell_type": "code",
   "execution_count": 32,
   "metadata": {},
   "outputs": [
    {
     "data": {
      "text/html": [
       "<div>\n",
       "<style>\n",
       "    .dataframe thead tr:only-child th {\n",
       "        text-align: right;\n",
       "    }\n",
       "\n",
       "    .dataframe thead th {\n",
       "        text-align: left;\n",
       "    }\n",
       "\n",
       "    .dataframe tbody tr th {\n",
       "        vertical-align: top;\n",
       "    }\n",
       "</style>\n",
       "<table border=\"1\" class=\"dataframe\">\n",
       "  <thead>\n",
       "    <tr style=\"text-align: right;\">\n",
       "      <th></th>\n",
       "      <th>naive</th>\n",
       "      <th>ML</th>\n",
       "      <th>Delta</th>\n",
       "    </tr>\n",
       "  </thead>\n",
       "  <tbody>\n",
       "    <tr>\n",
       "      <th>0</th>\n",
       "      <td>47</td>\n",
       "      <td>61</td>\n",
       "      <td>14</td>\n",
       "    </tr>\n",
       "    <tr>\n",
       "      <th>1</th>\n",
       "      <td>31</td>\n",
       "      <td>39</td>\n",
       "      <td>8</td>\n",
       "    </tr>\n",
       "    <tr>\n",
       "      <th>2</th>\n",
       "      <td>10</td>\n",
       "      <td>19</td>\n",
       "      <td>9</td>\n",
       "    </tr>\n",
       "    <tr>\n",
       "      <th>3</th>\n",
       "      <td>22</td>\n",
       "      <td>17</td>\n",
       "      <td>-5</td>\n",
       "    </tr>\n",
       "    <tr>\n",
       "      <th>4</th>\n",
       "      <td>33</td>\n",
       "      <td>28</td>\n",
       "      <td>-5</td>\n",
       "    </tr>\n",
       "    <tr>\n",
       "      <th>5</th>\n",
       "      <td>70</td>\n",
       "      <td>55</td>\n",
       "      <td>-15</td>\n",
       "    </tr>\n",
       "    <tr>\n",
       "      <th>6</th>\n",
       "      <td>42</td>\n",
       "      <td>40</td>\n",
       "      <td>-2</td>\n",
       "    </tr>\n",
       "    <tr>\n",
       "      <th>7</th>\n",
       "      <td>45</td>\n",
       "      <td>40</td>\n",
       "      <td>-5</td>\n",
       "    </tr>\n",
       "    <tr>\n",
       "      <th>8</th>\n",
       "      <td>38</td>\n",
       "      <td>33</td>\n",
       "      <td>-5</td>\n",
       "    </tr>\n",
       "    <tr>\n",
       "      <th>9</th>\n",
       "      <td>14</td>\n",
       "      <td>14</td>\n",
       "      <td>0</td>\n",
       "    </tr>\n",
       "    <tr>\n",
       "      <th>10</th>\n",
       "      <td>46</td>\n",
       "      <td>40</td>\n",
       "      <td>-6</td>\n",
       "    </tr>\n",
       "    <tr>\n",
       "      <th>11</th>\n",
       "      <td>44</td>\n",
       "      <td>38</td>\n",
       "      <td>-6</td>\n",
       "    </tr>\n",
       "    <tr>\n",
       "      <th>12</th>\n",
       "      <td>34</td>\n",
       "      <td>33</td>\n",
       "      <td>-1</td>\n",
       "    </tr>\n",
       "    <tr>\n",
       "      <th>13</th>\n",
       "      <td>49</td>\n",
       "      <td>49</td>\n",
       "      <td>0</td>\n",
       "    </tr>\n",
       "  </tbody>\n",
       "</table>\n",
       "</div>"
      ],
      "text/plain": [
       "    naive  ML  Delta\n",
       "0      47  61     14\n",
       "1      31  39      8\n",
       "2      10  19      9\n",
       "3      22  17     -5\n",
       "4      33  28     -5\n",
       "5      70  55    -15\n",
       "6      42  40     -2\n",
       "7      45  40     -5\n",
       "8      38  33     -5\n",
       "9      14  14      0\n",
       "10     46  40     -6\n",
       "11     44  38     -6\n",
       "12     34  33     -1\n",
       "13     49  49      0"
      ]
     },
     "execution_count": 32,
     "metadata": {},
     "output_type": "execute_result"
    }
   ],
   "source": [
    "df[['naive', 'ML', 'Delta']]"
   ]
  },
  {
   "cell_type": "markdown",
   "metadata": {},
   "source": [
    "## Why such a big change?!"
   ]
  },
  {
   "cell_type": "markdown",
   "metadata": {},
   "source": [
    "You can see that this exercise appreciably altered our determinations... in some cases, our certainty went way up (by a factor of $e^{14} \\sim 1.2\\,\\mathrm{million}$!), and in some cases it went way down (by a factor of $e^{-15} \\sim 3.5\\,\\mathrm{million}$!).  Note however, it did not change our *conclusion* about who likely wrote the papers, which remains very certain.  It only changed our certainty about that conlusion.  Nonetheless, it's hardly comforting to see such large changes, so it's worth understanding them.\n",
    "\n",
    "Let's take a look at the first document, Federalist #18, for which the certainty went way up.  Assuming that Madison indeed wrote this paper, then our model became far better.  To understand why, let's assume that he *never* used the word \"largely\" in the training set, but that Hamilton used it once.  And let's assume that the word appears once in Federalist #18.  Our first model would count this exceedingly strongly against Madison, but is that reasonable?  He's allowed to pen the word \"largely,\" once, if he wants to, right?\n",
    "\n",
    "So adjusting the words with extreme values of tau seems to help with this problem.\n",
    "\n",
    "We can confirm that this is the right explanation by finding the words for which our estimated $\\tau$ changed the most:"
   ]
  },
  {
   "cell_type": "code",
   "execution_count": 33,
   "metadata": {
    "collapsed": true
   },
   "outputs": [],
   "source": [
    "ind = np.where(np.abs(tau_ml - tau) > 0.4)[0]"
   ]
  },
  {
   "cell_type": "code",
   "execution_count": 34,
   "metadata": {},
   "outputs": [
    {
     "name": "stdout",
     "output_type": "stream",
     "text": [
      "['across', 'along', 'anyone', 'anything', 'argue', 'around', 'back', 'became', 'behind', 'cannot', 'comparable', 'dramatically', 'everyone', 'get', 'go', 'imply', 'largely', 'moreover', 'mostly', 'nobody', 'noone', 'seemed', 'seeming', 'someone', 'somewhere', 'suggest', 'toward', 'typical', 'typically', 'using', 'yours']\n"
     ]
    }
   ],
   "source": [
    "badwords = [stopwords[i] for i in ind]\n",
    "print badwords"
   ]
  },
  {
   "cell_type": "markdown",
   "metadata": {},
   "source": [
    "And we can confirm that these are words which barely appear in the training set, especially Madison's:"
   ]
  },
  {
   "cell_type": "code",
   "execution_count": 35,
   "metadata": {},
   "outputs": [
    {
     "name": "stdout",
     "output_type": "stream",
     "text": [
      "[0 2 0 4 3 0 0 5 1 0 0 0 0 4 9 9 0 0 0 0 0 1 1 0 3 4 4 0 0 3 0]\n",
      "[0 0 0 0 0 0 0 0 0 0 0 0 0 0 0 0 0 1 0 0 0 0 0 0 0 0 0 0 0 0 0]\n"
     ]
    }
   ],
   "source": [
    "print xh[ind]\n",
    "print xm[ind]"
   ]
  },
  {
   "cell_type": "markdown",
   "metadata": {},
   "source": [
    "And now we can check that some of these words indeed appear in the Federalist #18:"
   ]
  },
  {
   "cell_type": "code",
   "execution_count": 36,
   "metadata": {},
   "outputs": [
    {
     "name": "stdout",
     "output_type": "stream",
     "text": [
      "[0 0 0 0 0 1 0 3 0 0 0 0 0 0 0 0 0 0 0 0 0 1 0 0 0 0 0 0 0 0 0]\n"
     ]
    }
   ],
   "source": [
    "nu, xu = measure('../authors/unknown-federalist/18.txt')\n",
    "print xu[ind]"
   ]
  },
  {
   "cell_type": "markdown",
   "metadata": {},
   "source": [
    "So it does appear that our inference for Federalist #18 moved so much because it contains a few words which are rare in Hamilton's training set, but which don't appear at all in Madison's.  In our first model, this strongly (and artifically) penalized Madison.  As a last step, we can make sure these three words in fact account for most of the change in our certainty:"
   ]
  },
  {
   "cell_type": "code",
   "execution_count": 37,
   "metadata": {
    "collapsed": true
   },
   "outputs": [],
   "source": [
    "lnpold = (xu * np.log((mu_m+1e-6)/(mu_h+1e-6)) - nu * (mu_m - mu_h))[ind]\n",
    "lnpnew = (xu * np.log((mu_m_ml+1e-6)/(mu_h_ml+1e-6)) - nu * (mu_m_ml - mu_h_ml))[ind]\n",
    "\n",
    "diff = np.clip(lnpnew - lnpold, a_min = 1, a_max=None)-1"
   ]
  },
  {
   "cell_type": "code",
   "execution_count": 38,
   "metadata": {},
   "outputs": [
    {
     "data": {
      "text/html": [
       "<style  type=\"text/css\" >\n",
       "    #T_883d37b0_c36c_11e7_8894_8c85905ce123row0_col4 {\n",
       "            color:  black;\n",
       "        }    #T_883d37b0_c36c_11e7_8894_8c85905ce123row1_col4 {\n",
       "            color:  black;\n",
       "        }    #T_883d37b0_c36c_11e7_8894_8c85905ce123row2_col4 {\n",
       "            color:  black;\n",
       "        }    #T_883d37b0_c36c_11e7_8894_8c85905ce123row3_col4 {\n",
       "            color:  black;\n",
       "        }    #T_883d37b0_c36c_11e7_8894_8c85905ce123row4_col4 {\n",
       "            color:  black;\n",
       "        }    #T_883d37b0_c36c_11e7_8894_8c85905ce123row5_col4 {\n",
       "            color:  black;\n",
       "        }    #T_883d37b0_c36c_11e7_8894_8c85905ce123row6_col4 {\n",
       "            color:  black;\n",
       "        }    #T_883d37b0_c36c_11e7_8894_8c85905ce123row7_col4 {\n",
       "            color:  red;\n",
       "        }    #T_883d37b0_c36c_11e7_8894_8c85905ce123row8_col4 {\n",
       "            color:  black;\n",
       "        }    #T_883d37b0_c36c_11e7_8894_8c85905ce123row9_col4 {\n",
       "            color:  black;\n",
       "        }    #T_883d37b0_c36c_11e7_8894_8c85905ce123row10_col4 {\n",
       "            color:  black;\n",
       "        }    #T_883d37b0_c36c_11e7_8894_8c85905ce123row11_col4 {\n",
       "            color:  black;\n",
       "        }    #T_883d37b0_c36c_11e7_8894_8c85905ce123row12_col4 {\n",
       "            color:  black;\n",
       "        }    #T_883d37b0_c36c_11e7_8894_8c85905ce123row13_col4 {\n",
       "            color:  black;\n",
       "        }    #T_883d37b0_c36c_11e7_8894_8c85905ce123row14_col4 {\n",
       "            color:  black;\n",
       "        }    #T_883d37b0_c36c_11e7_8894_8c85905ce123row15_col4 {\n",
       "            color:  black;\n",
       "        }    #T_883d37b0_c36c_11e7_8894_8c85905ce123row16_col4 {\n",
       "            color:  black;\n",
       "        }    #T_883d37b0_c36c_11e7_8894_8c85905ce123row17_col4 {\n",
       "            color:  black;\n",
       "        }    #T_883d37b0_c36c_11e7_8894_8c85905ce123row18_col4 {\n",
       "            color:  black;\n",
       "        }    #T_883d37b0_c36c_11e7_8894_8c85905ce123row19_col4 {\n",
       "            color:  black;\n",
       "        }    #T_883d37b0_c36c_11e7_8894_8c85905ce123row20_col4 {\n",
       "            color:  black;\n",
       "        }    #T_883d37b0_c36c_11e7_8894_8c85905ce123row21_col4 {\n",
       "            color:  red;\n",
       "        }    #T_883d37b0_c36c_11e7_8894_8c85905ce123row22_col4 {\n",
       "            color:  black;\n",
       "        }    #T_883d37b0_c36c_11e7_8894_8c85905ce123row23_col4 {\n",
       "            color:  black;\n",
       "        }    #T_883d37b0_c36c_11e7_8894_8c85905ce123row24_col4 {\n",
       "            color:  black;\n",
       "        }    #T_883d37b0_c36c_11e7_8894_8c85905ce123row25_col4 {\n",
       "            color:  black;\n",
       "        }    #T_883d37b0_c36c_11e7_8894_8c85905ce123row26_col4 {\n",
       "            color:  black;\n",
       "        }    #T_883d37b0_c36c_11e7_8894_8c85905ce123row27_col4 {\n",
       "            color:  black;\n",
       "        }    #T_883d37b0_c36c_11e7_8894_8c85905ce123row28_col4 {\n",
       "            color:  black;\n",
       "        }    #T_883d37b0_c36c_11e7_8894_8c85905ce123row29_col4 {\n",
       "            color:  black;\n",
       "        }    #T_883d37b0_c36c_11e7_8894_8c85905ce123row30_col4 {\n",
       "            color:  black;\n",
       "        }</style>  \n",
       "<table id=\"T_883d37b0_c36c_11e7_8894_8c85905ce123\" > \n",
       "<thead>    <tr> \n",
       "        <th class=\"blank level0\" ></th> \n",
       "        <th class=\"col_heading level0 col0\" >words</th> \n",
       "        <th class=\"col_heading level0 col1\" >xh</th> \n",
       "        <th class=\"col_heading level0 col2\" >xm</th> \n",
       "        <th class=\"col_heading level0 col3\" >xu</th> \n",
       "        <th class=\"col_heading level0 col4\" >delta</th> \n",
       "    </tr></thead> \n",
       "<tbody>    <tr> \n",
       "        <th id=\"T_883d37b0_c36c_11e7_8894_8c85905ce123level0_row0\" class=\"row_heading level0 row0\" >0</th> \n",
       "        <td id=\"T_883d37b0_c36c_11e7_8894_8c85905ce123row0_col0\" class=\"data row0 col0\" >across</td> \n",
       "        <td id=\"T_883d37b0_c36c_11e7_8894_8c85905ce123row0_col1\" class=\"data row0 col1\" >0</td> \n",
       "        <td id=\"T_883d37b0_c36c_11e7_8894_8c85905ce123row0_col2\" class=\"data row0 col2\" >0</td> \n",
       "        <td id=\"T_883d37b0_c36c_11e7_8894_8c85905ce123row0_col3\" class=\"data row0 col3\" >0</td> \n",
       "        <td id=\"T_883d37b0_c36c_11e7_8894_8c85905ce123row0_col4\" class=\"data row0 col4\" >0</td> \n",
       "    </tr>    <tr> \n",
       "        <th id=\"T_883d37b0_c36c_11e7_8894_8c85905ce123level0_row1\" class=\"row_heading level0 row1\" >1</th> \n",
       "        <td id=\"T_883d37b0_c36c_11e7_8894_8c85905ce123row1_col0\" class=\"data row1 col0\" >along</td> \n",
       "        <td id=\"T_883d37b0_c36c_11e7_8894_8c85905ce123row1_col1\" class=\"data row1 col1\" >2</td> \n",
       "        <td id=\"T_883d37b0_c36c_11e7_8894_8c85905ce123row1_col2\" class=\"data row1 col2\" >0</td> \n",
       "        <td id=\"T_883d37b0_c36c_11e7_8894_8c85905ce123row1_col3\" class=\"data row1 col3\" >0</td> \n",
       "        <td id=\"T_883d37b0_c36c_11e7_8894_8c85905ce123row1_col4\" class=\"data row1 col4\" >0</td> \n",
       "    </tr>    <tr> \n",
       "        <th id=\"T_883d37b0_c36c_11e7_8894_8c85905ce123level0_row2\" class=\"row_heading level0 row2\" >2</th> \n",
       "        <td id=\"T_883d37b0_c36c_11e7_8894_8c85905ce123row2_col0\" class=\"data row2 col0\" >anyone</td> \n",
       "        <td id=\"T_883d37b0_c36c_11e7_8894_8c85905ce123row2_col1\" class=\"data row2 col1\" >0</td> \n",
       "        <td id=\"T_883d37b0_c36c_11e7_8894_8c85905ce123row2_col2\" class=\"data row2 col2\" >0</td> \n",
       "        <td id=\"T_883d37b0_c36c_11e7_8894_8c85905ce123row2_col3\" class=\"data row2 col3\" >0</td> \n",
       "        <td id=\"T_883d37b0_c36c_11e7_8894_8c85905ce123row2_col4\" class=\"data row2 col4\" >0</td> \n",
       "    </tr>    <tr> \n",
       "        <th id=\"T_883d37b0_c36c_11e7_8894_8c85905ce123level0_row3\" class=\"row_heading level0 row3\" >3</th> \n",
       "        <td id=\"T_883d37b0_c36c_11e7_8894_8c85905ce123row3_col0\" class=\"data row3 col0\" >anything</td> \n",
       "        <td id=\"T_883d37b0_c36c_11e7_8894_8c85905ce123row3_col1\" class=\"data row3 col1\" >4</td> \n",
       "        <td id=\"T_883d37b0_c36c_11e7_8894_8c85905ce123row3_col2\" class=\"data row3 col2\" >0</td> \n",
       "        <td id=\"T_883d37b0_c36c_11e7_8894_8c85905ce123row3_col3\" class=\"data row3 col3\" >0</td> \n",
       "        <td id=\"T_883d37b0_c36c_11e7_8894_8c85905ce123row3_col4\" class=\"data row3 col4\" >0</td> \n",
       "    </tr>    <tr> \n",
       "        <th id=\"T_883d37b0_c36c_11e7_8894_8c85905ce123level0_row4\" class=\"row_heading level0 row4\" >4</th> \n",
       "        <td id=\"T_883d37b0_c36c_11e7_8894_8c85905ce123row4_col0\" class=\"data row4 col0\" >argue</td> \n",
       "        <td id=\"T_883d37b0_c36c_11e7_8894_8c85905ce123row4_col1\" class=\"data row4 col1\" >3</td> \n",
       "        <td id=\"T_883d37b0_c36c_11e7_8894_8c85905ce123row4_col2\" class=\"data row4 col2\" >0</td> \n",
       "        <td id=\"T_883d37b0_c36c_11e7_8894_8c85905ce123row4_col3\" class=\"data row4 col3\" >0</td> \n",
       "        <td id=\"T_883d37b0_c36c_11e7_8894_8c85905ce123row4_col4\" class=\"data row4 col4\" >0</td> \n",
       "    </tr>    <tr> \n",
       "        <th id=\"T_883d37b0_c36c_11e7_8894_8c85905ce123level0_row5\" class=\"row_heading level0 row5\" >5</th> \n",
       "        <td id=\"T_883d37b0_c36c_11e7_8894_8c85905ce123row5_col0\" class=\"data row5 col0\" >around</td> \n",
       "        <td id=\"T_883d37b0_c36c_11e7_8894_8c85905ce123row5_col1\" class=\"data row5 col1\" >0</td> \n",
       "        <td id=\"T_883d37b0_c36c_11e7_8894_8c85905ce123row5_col2\" class=\"data row5 col2\" >0</td> \n",
       "        <td id=\"T_883d37b0_c36c_11e7_8894_8c85905ce123row5_col3\" class=\"data row5 col3\" >1</td> \n",
       "        <td id=\"T_883d37b0_c36c_11e7_8894_8c85905ce123row5_col4\" class=\"data row5 col4\" >0</td> \n",
       "    </tr>    <tr> \n",
       "        <th id=\"T_883d37b0_c36c_11e7_8894_8c85905ce123level0_row6\" class=\"row_heading level0 row6\" >6</th> \n",
       "        <td id=\"T_883d37b0_c36c_11e7_8894_8c85905ce123row6_col0\" class=\"data row6 col0\" >back</td> \n",
       "        <td id=\"T_883d37b0_c36c_11e7_8894_8c85905ce123row6_col1\" class=\"data row6 col1\" >0</td> \n",
       "        <td id=\"T_883d37b0_c36c_11e7_8894_8c85905ce123row6_col2\" class=\"data row6 col2\" >0</td> \n",
       "        <td id=\"T_883d37b0_c36c_11e7_8894_8c85905ce123row6_col3\" class=\"data row6 col3\" >0</td> \n",
       "        <td id=\"T_883d37b0_c36c_11e7_8894_8c85905ce123row6_col4\" class=\"data row6 col4\" >0</td> \n",
       "    </tr>    <tr> \n",
       "        <th id=\"T_883d37b0_c36c_11e7_8894_8c85905ce123level0_row7\" class=\"row_heading level0 row7\" >7</th> \n",
       "        <td id=\"T_883d37b0_c36c_11e7_8894_8c85905ce123row7_col0\" class=\"data row7 col0\" >became</td> \n",
       "        <td id=\"T_883d37b0_c36c_11e7_8894_8c85905ce123row7_col1\" class=\"data row7 col1\" >5</td> \n",
       "        <td id=\"T_883d37b0_c36c_11e7_8894_8c85905ce123row7_col2\" class=\"data row7 col2\" >0</td> \n",
       "        <td id=\"T_883d37b0_c36c_11e7_8894_8c85905ce123row7_col3\" class=\"data row7 col3\" >3</td> \n",
       "        <td id=\"T_883d37b0_c36c_11e7_8894_8c85905ce123row7_col4\" class=\"data row7 col4\" >9</td> \n",
       "    </tr>    <tr> \n",
       "        <th id=\"T_883d37b0_c36c_11e7_8894_8c85905ce123level0_row8\" class=\"row_heading level0 row8\" >8</th> \n",
       "        <td id=\"T_883d37b0_c36c_11e7_8894_8c85905ce123row8_col0\" class=\"data row8 col0\" >behind</td> \n",
       "        <td id=\"T_883d37b0_c36c_11e7_8894_8c85905ce123row8_col1\" class=\"data row8 col1\" >1</td> \n",
       "        <td id=\"T_883d37b0_c36c_11e7_8894_8c85905ce123row8_col2\" class=\"data row8 col2\" >0</td> \n",
       "        <td id=\"T_883d37b0_c36c_11e7_8894_8c85905ce123row8_col3\" class=\"data row8 col3\" >0</td> \n",
       "        <td id=\"T_883d37b0_c36c_11e7_8894_8c85905ce123row8_col4\" class=\"data row8 col4\" >0</td> \n",
       "    </tr>    <tr> \n",
       "        <th id=\"T_883d37b0_c36c_11e7_8894_8c85905ce123level0_row9\" class=\"row_heading level0 row9\" >9</th> \n",
       "        <td id=\"T_883d37b0_c36c_11e7_8894_8c85905ce123row9_col0\" class=\"data row9 col0\" >cannot</td> \n",
       "        <td id=\"T_883d37b0_c36c_11e7_8894_8c85905ce123row9_col1\" class=\"data row9 col1\" >0</td> \n",
       "        <td id=\"T_883d37b0_c36c_11e7_8894_8c85905ce123row9_col2\" class=\"data row9 col2\" >0</td> \n",
       "        <td id=\"T_883d37b0_c36c_11e7_8894_8c85905ce123row9_col3\" class=\"data row9 col3\" >0</td> \n",
       "        <td id=\"T_883d37b0_c36c_11e7_8894_8c85905ce123row9_col4\" class=\"data row9 col4\" >0</td> \n",
       "    </tr>    <tr> \n",
       "        <th id=\"T_883d37b0_c36c_11e7_8894_8c85905ce123level0_row10\" class=\"row_heading level0 row10\" >10</th> \n",
       "        <td id=\"T_883d37b0_c36c_11e7_8894_8c85905ce123row10_col0\" class=\"data row10 col0\" >comparable</td> \n",
       "        <td id=\"T_883d37b0_c36c_11e7_8894_8c85905ce123row10_col1\" class=\"data row10 col1\" >0</td> \n",
       "        <td id=\"T_883d37b0_c36c_11e7_8894_8c85905ce123row10_col2\" class=\"data row10 col2\" >0</td> \n",
       "        <td id=\"T_883d37b0_c36c_11e7_8894_8c85905ce123row10_col3\" class=\"data row10 col3\" >0</td> \n",
       "        <td id=\"T_883d37b0_c36c_11e7_8894_8c85905ce123row10_col4\" class=\"data row10 col4\" >0</td> \n",
       "    </tr>    <tr> \n",
       "        <th id=\"T_883d37b0_c36c_11e7_8894_8c85905ce123level0_row11\" class=\"row_heading level0 row11\" >11</th> \n",
       "        <td id=\"T_883d37b0_c36c_11e7_8894_8c85905ce123row11_col0\" class=\"data row11 col0\" >dramatically</td> \n",
       "        <td id=\"T_883d37b0_c36c_11e7_8894_8c85905ce123row11_col1\" class=\"data row11 col1\" >0</td> \n",
       "        <td id=\"T_883d37b0_c36c_11e7_8894_8c85905ce123row11_col2\" class=\"data row11 col2\" >0</td> \n",
       "        <td id=\"T_883d37b0_c36c_11e7_8894_8c85905ce123row11_col3\" class=\"data row11 col3\" >0</td> \n",
       "        <td id=\"T_883d37b0_c36c_11e7_8894_8c85905ce123row11_col4\" class=\"data row11 col4\" >0</td> \n",
       "    </tr>    <tr> \n",
       "        <th id=\"T_883d37b0_c36c_11e7_8894_8c85905ce123level0_row12\" class=\"row_heading level0 row12\" >12</th> \n",
       "        <td id=\"T_883d37b0_c36c_11e7_8894_8c85905ce123row12_col0\" class=\"data row12 col0\" >everyone</td> \n",
       "        <td id=\"T_883d37b0_c36c_11e7_8894_8c85905ce123row12_col1\" class=\"data row12 col1\" >0</td> \n",
       "        <td id=\"T_883d37b0_c36c_11e7_8894_8c85905ce123row12_col2\" class=\"data row12 col2\" >0</td> \n",
       "        <td id=\"T_883d37b0_c36c_11e7_8894_8c85905ce123row12_col3\" class=\"data row12 col3\" >0</td> \n",
       "        <td id=\"T_883d37b0_c36c_11e7_8894_8c85905ce123row12_col4\" class=\"data row12 col4\" >0</td> \n",
       "    </tr>    <tr> \n",
       "        <th id=\"T_883d37b0_c36c_11e7_8894_8c85905ce123level0_row13\" class=\"row_heading level0 row13\" >13</th> \n",
       "        <td id=\"T_883d37b0_c36c_11e7_8894_8c85905ce123row13_col0\" class=\"data row13 col0\" >get</td> \n",
       "        <td id=\"T_883d37b0_c36c_11e7_8894_8c85905ce123row13_col1\" class=\"data row13 col1\" >4</td> \n",
       "        <td id=\"T_883d37b0_c36c_11e7_8894_8c85905ce123row13_col2\" class=\"data row13 col2\" >0</td> \n",
       "        <td id=\"T_883d37b0_c36c_11e7_8894_8c85905ce123row13_col3\" class=\"data row13 col3\" >0</td> \n",
       "        <td id=\"T_883d37b0_c36c_11e7_8894_8c85905ce123row13_col4\" class=\"data row13 col4\" >0</td> \n",
       "    </tr>    <tr> \n",
       "        <th id=\"T_883d37b0_c36c_11e7_8894_8c85905ce123level0_row14\" class=\"row_heading level0 row14\" >14</th> \n",
       "        <td id=\"T_883d37b0_c36c_11e7_8894_8c85905ce123row14_col0\" class=\"data row14 col0\" >go</td> \n",
       "        <td id=\"T_883d37b0_c36c_11e7_8894_8c85905ce123row14_col1\" class=\"data row14 col1\" >9</td> \n",
       "        <td id=\"T_883d37b0_c36c_11e7_8894_8c85905ce123row14_col2\" class=\"data row14 col2\" >0</td> \n",
       "        <td id=\"T_883d37b0_c36c_11e7_8894_8c85905ce123row14_col3\" class=\"data row14 col3\" >0</td> \n",
       "        <td id=\"T_883d37b0_c36c_11e7_8894_8c85905ce123row14_col4\" class=\"data row14 col4\" >0</td> \n",
       "    </tr>    <tr> \n",
       "        <th id=\"T_883d37b0_c36c_11e7_8894_8c85905ce123level0_row15\" class=\"row_heading level0 row15\" >15</th> \n",
       "        <td id=\"T_883d37b0_c36c_11e7_8894_8c85905ce123row15_col0\" class=\"data row15 col0\" >imply</td> \n",
       "        <td id=\"T_883d37b0_c36c_11e7_8894_8c85905ce123row15_col1\" class=\"data row15 col1\" >9</td> \n",
       "        <td id=\"T_883d37b0_c36c_11e7_8894_8c85905ce123row15_col2\" class=\"data row15 col2\" >0</td> \n",
       "        <td id=\"T_883d37b0_c36c_11e7_8894_8c85905ce123row15_col3\" class=\"data row15 col3\" >0</td> \n",
       "        <td id=\"T_883d37b0_c36c_11e7_8894_8c85905ce123row15_col4\" class=\"data row15 col4\" >0</td> \n",
       "    </tr>    <tr> \n",
       "        <th id=\"T_883d37b0_c36c_11e7_8894_8c85905ce123level0_row16\" class=\"row_heading level0 row16\" >16</th> \n",
       "        <td id=\"T_883d37b0_c36c_11e7_8894_8c85905ce123row16_col0\" class=\"data row16 col0\" >largely</td> \n",
       "        <td id=\"T_883d37b0_c36c_11e7_8894_8c85905ce123row16_col1\" class=\"data row16 col1\" >0</td> \n",
       "        <td id=\"T_883d37b0_c36c_11e7_8894_8c85905ce123row16_col2\" class=\"data row16 col2\" >0</td> \n",
       "        <td id=\"T_883d37b0_c36c_11e7_8894_8c85905ce123row16_col3\" class=\"data row16 col3\" >0</td> \n",
       "        <td id=\"T_883d37b0_c36c_11e7_8894_8c85905ce123row16_col4\" class=\"data row16 col4\" >0</td> \n",
       "    </tr>    <tr> \n",
       "        <th id=\"T_883d37b0_c36c_11e7_8894_8c85905ce123level0_row17\" class=\"row_heading level0 row17\" >17</th> \n",
       "        <td id=\"T_883d37b0_c36c_11e7_8894_8c85905ce123row17_col0\" class=\"data row17 col0\" >moreover</td> \n",
       "        <td id=\"T_883d37b0_c36c_11e7_8894_8c85905ce123row17_col1\" class=\"data row17 col1\" >0</td> \n",
       "        <td id=\"T_883d37b0_c36c_11e7_8894_8c85905ce123row17_col2\" class=\"data row17 col2\" >1</td> \n",
       "        <td id=\"T_883d37b0_c36c_11e7_8894_8c85905ce123row17_col3\" class=\"data row17 col3\" >0</td> \n",
       "        <td id=\"T_883d37b0_c36c_11e7_8894_8c85905ce123row17_col4\" class=\"data row17 col4\" >0</td> \n",
       "    </tr>    <tr> \n",
       "        <th id=\"T_883d37b0_c36c_11e7_8894_8c85905ce123level0_row18\" class=\"row_heading level0 row18\" >18</th> \n",
       "        <td id=\"T_883d37b0_c36c_11e7_8894_8c85905ce123row18_col0\" class=\"data row18 col0\" >mostly</td> \n",
       "        <td id=\"T_883d37b0_c36c_11e7_8894_8c85905ce123row18_col1\" class=\"data row18 col1\" >0</td> \n",
       "        <td id=\"T_883d37b0_c36c_11e7_8894_8c85905ce123row18_col2\" class=\"data row18 col2\" >0</td> \n",
       "        <td id=\"T_883d37b0_c36c_11e7_8894_8c85905ce123row18_col3\" class=\"data row18 col3\" >0</td> \n",
       "        <td id=\"T_883d37b0_c36c_11e7_8894_8c85905ce123row18_col4\" class=\"data row18 col4\" >0</td> \n",
       "    </tr>    <tr> \n",
       "        <th id=\"T_883d37b0_c36c_11e7_8894_8c85905ce123level0_row19\" class=\"row_heading level0 row19\" >19</th> \n",
       "        <td id=\"T_883d37b0_c36c_11e7_8894_8c85905ce123row19_col0\" class=\"data row19 col0\" >nobody</td> \n",
       "        <td id=\"T_883d37b0_c36c_11e7_8894_8c85905ce123row19_col1\" class=\"data row19 col1\" >0</td> \n",
       "        <td id=\"T_883d37b0_c36c_11e7_8894_8c85905ce123row19_col2\" class=\"data row19 col2\" >0</td> \n",
       "        <td id=\"T_883d37b0_c36c_11e7_8894_8c85905ce123row19_col3\" class=\"data row19 col3\" >0</td> \n",
       "        <td id=\"T_883d37b0_c36c_11e7_8894_8c85905ce123row19_col4\" class=\"data row19 col4\" >0</td> \n",
       "    </tr>    <tr> \n",
       "        <th id=\"T_883d37b0_c36c_11e7_8894_8c85905ce123level0_row20\" class=\"row_heading level0 row20\" >20</th> \n",
       "        <td id=\"T_883d37b0_c36c_11e7_8894_8c85905ce123row20_col0\" class=\"data row20 col0\" >noone</td> \n",
       "        <td id=\"T_883d37b0_c36c_11e7_8894_8c85905ce123row20_col1\" class=\"data row20 col1\" >0</td> \n",
       "        <td id=\"T_883d37b0_c36c_11e7_8894_8c85905ce123row20_col2\" class=\"data row20 col2\" >0</td> \n",
       "        <td id=\"T_883d37b0_c36c_11e7_8894_8c85905ce123row20_col3\" class=\"data row20 col3\" >0</td> \n",
       "        <td id=\"T_883d37b0_c36c_11e7_8894_8c85905ce123row20_col4\" class=\"data row20 col4\" >0</td> \n",
       "    </tr>    <tr> \n",
       "        <th id=\"T_883d37b0_c36c_11e7_8894_8c85905ce123level0_row21\" class=\"row_heading level0 row21\" >21</th> \n",
       "        <td id=\"T_883d37b0_c36c_11e7_8894_8c85905ce123row21_col0\" class=\"data row21 col0\" >seemed</td> \n",
       "        <td id=\"T_883d37b0_c36c_11e7_8894_8c85905ce123row21_col1\" class=\"data row21 col1\" >1</td> \n",
       "        <td id=\"T_883d37b0_c36c_11e7_8894_8c85905ce123row21_col2\" class=\"data row21 col2\" >0</td> \n",
       "        <td id=\"T_883d37b0_c36c_11e7_8894_8c85905ce123row21_col3\" class=\"data row21 col3\" >1</td> \n",
       "        <td id=\"T_883d37b0_c36c_11e7_8894_8c85905ce123row21_col4\" class=\"data row21 col4\" >1</td> \n",
       "    </tr>    <tr> \n",
       "        <th id=\"T_883d37b0_c36c_11e7_8894_8c85905ce123level0_row22\" class=\"row_heading level0 row22\" >22</th> \n",
       "        <td id=\"T_883d37b0_c36c_11e7_8894_8c85905ce123row22_col0\" class=\"data row22 col0\" >seeming</td> \n",
       "        <td id=\"T_883d37b0_c36c_11e7_8894_8c85905ce123row22_col1\" class=\"data row22 col1\" >1</td> \n",
       "        <td id=\"T_883d37b0_c36c_11e7_8894_8c85905ce123row22_col2\" class=\"data row22 col2\" >0</td> \n",
       "        <td id=\"T_883d37b0_c36c_11e7_8894_8c85905ce123row22_col3\" class=\"data row22 col3\" >0</td> \n",
       "        <td id=\"T_883d37b0_c36c_11e7_8894_8c85905ce123row22_col4\" class=\"data row22 col4\" >0</td> \n",
       "    </tr>    <tr> \n",
       "        <th id=\"T_883d37b0_c36c_11e7_8894_8c85905ce123level0_row23\" class=\"row_heading level0 row23\" >23</th> \n",
       "        <td id=\"T_883d37b0_c36c_11e7_8894_8c85905ce123row23_col0\" class=\"data row23 col0\" >someone</td> \n",
       "        <td id=\"T_883d37b0_c36c_11e7_8894_8c85905ce123row23_col1\" class=\"data row23 col1\" >0</td> \n",
       "        <td id=\"T_883d37b0_c36c_11e7_8894_8c85905ce123row23_col2\" class=\"data row23 col2\" >0</td> \n",
       "        <td id=\"T_883d37b0_c36c_11e7_8894_8c85905ce123row23_col3\" class=\"data row23 col3\" >0</td> \n",
       "        <td id=\"T_883d37b0_c36c_11e7_8894_8c85905ce123row23_col4\" class=\"data row23 col4\" >0</td> \n",
       "    </tr>    <tr> \n",
       "        <th id=\"T_883d37b0_c36c_11e7_8894_8c85905ce123level0_row24\" class=\"row_heading level0 row24\" >24</th> \n",
       "        <td id=\"T_883d37b0_c36c_11e7_8894_8c85905ce123row24_col0\" class=\"data row24 col0\" >somewhere</td> \n",
       "        <td id=\"T_883d37b0_c36c_11e7_8894_8c85905ce123row24_col1\" class=\"data row24 col1\" >3</td> \n",
       "        <td id=\"T_883d37b0_c36c_11e7_8894_8c85905ce123row24_col2\" class=\"data row24 col2\" >0</td> \n",
       "        <td id=\"T_883d37b0_c36c_11e7_8894_8c85905ce123row24_col3\" class=\"data row24 col3\" >0</td> \n",
       "        <td id=\"T_883d37b0_c36c_11e7_8894_8c85905ce123row24_col4\" class=\"data row24 col4\" >0</td> \n",
       "    </tr>    <tr> \n",
       "        <th id=\"T_883d37b0_c36c_11e7_8894_8c85905ce123level0_row25\" class=\"row_heading level0 row25\" >25</th> \n",
       "        <td id=\"T_883d37b0_c36c_11e7_8894_8c85905ce123row25_col0\" class=\"data row25 col0\" >suggest</td> \n",
       "        <td id=\"T_883d37b0_c36c_11e7_8894_8c85905ce123row25_col1\" class=\"data row25 col1\" >4</td> \n",
       "        <td id=\"T_883d37b0_c36c_11e7_8894_8c85905ce123row25_col2\" class=\"data row25 col2\" >0</td> \n",
       "        <td id=\"T_883d37b0_c36c_11e7_8894_8c85905ce123row25_col3\" class=\"data row25 col3\" >0</td> \n",
       "        <td id=\"T_883d37b0_c36c_11e7_8894_8c85905ce123row25_col4\" class=\"data row25 col4\" >0</td> \n",
       "    </tr>    <tr> \n",
       "        <th id=\"T_883d37b0_c36c_11e7_8894_8c85905ce123level0_row26\" class=\"row_heading level0 row26\" >26</th> \n",
       "        <td id=\"T_883d37b0_c36c_11e7_8894_8c85905ce123row26_col0\" class=\"data row26 col0\" >toward</td> \n",
       "        <td id=\"T_883d37b0_c36c_11e7_8894_8c85905ce123row26_col1\" class=\"data row26 col1\" >4</td> \n",
       "        <td id=\"T_883d37b0_c36c_11e7_8894_8c85905ce123row26_col2\" class=\"data row26 col2\" >0</td> \n",
       "        <td id=\"T_883d37b0_c36c_11e7_8894_8c85905ce123row26_col3\" class=\"data row26 col3\" >0</td> \n",
       "        <td id=\"T_883d37b0_c36c_11e7_8894_8c85905ce123row26_col4\" class=\"data row26 col4\" >0</td> \n",
       "    </tr>    <tr> \n",
       "        <th id=\"T_883d37b0_c36c_11e7_8894_8c85905ce123level0_row27\" class=\"row_heading level0 row27\" >27</th> \n",
       "        <td id=\"T_883d37b0_c36c_11e7_8894_8c85905ce123row27_col0\" class=\"data row27 col0\" >typical</td> \n",
       "        <td id=\"T_883d37b0_c36c_11e7_8894_8c85905ce123row27_col1\" class=\"data row27 col1\" >0</td> \n",
       "        <td id=\"T_883d37b0_c36c_11e7_8894_8c85905ce123row27_col2\" class=\"data row27 col2\" >0</td> \n",
       "        <td id=\"T_883d37b0_c36c_11e7_8894_8c85905ce123row27_col3\" class=\"data row27 col3\" >0</td> \n",
       "        <td id=\"T_883d37b0_c36c_11e7_8894_8c85905ce123row27_col4\" class=\"data row27 col4\" >0</td> \n",
       "    </tr>    <tr> \n",
       "        <th id=\"T_883d37b0_c36c_11e7_8894_8c85905ce123level0_row28\" class=\"row_heading level0 row28\" >28</th> \n",
       "        <td id=\"T_883d37b0_c36c_11e7_8894_8c85905ce123row28_col0\" class=\"data row28 col0\" >typically</td> \n",
       "        <td id=\"T_883d37b0_c36c_11e7_8894_8c85905ce123row28_col1\" class=\"data row28 col1\" >0</td> \n",
       "        <td id=\"T_883d37b0_c36c_11e7_8894_8c85905ce123row28_col2\" class=\"data row28 col2\" >0</td> \n",
       "        <td id=\"T_883d37b0_c36c_11e7_8894_8c85905ce123row28_col3\" class=\"data row28 col3\" >0</td> \n",
       "        <td id=\"T_883d37b0_c36c_11e7_8894_8c85905ce123row28_col4\" class=\"data row28 col4\" >0</td> \n",
       "    </tr>    <tr> \n",
       "        <th id=\"T_883d37b0_c36c_11e7_8894_8c85905ce123level0_row29\" class=\"row_heading level0 row29\" >29</th> \n",
       "        <td id=\"T_883d37b0_c36c_11e7_8894_8c85905ce123row29_col0\" class=\"data row29 col0\" >using</td> \n",
       "        <td id=\"T_883d37b0_c36c_11e7_8894_8c85905ce123row29_col1\" class=\"data row29 col1\" >3</td> \n",
       "        <td id=\"T_883d37b0_c36c_11e7_8894_8c85905ce123row29_col2\" class=\"data row29 col2\" >0</td> \n",
       "        <td id=\"T_883d37b0_c36c_11e7_8894_8c85905ce123row29_col3\" class=\"data row29 col3\" >0</td> \n",
       "        <td id=\"T_883d37b0_c36c_11e7_8894_8c85905ce123row29_col4\" class=\"data row29 col4\" >0</td> \n",
       "    </tr>    <tr> \n",
       "        <th id=\"T_883d37b0_c36c_11e7_8894_8c85905ce123level0_row30\" class=\"row_heading level0 row30\" >30</th> \n",
       "        <td id=\"T_883d37b0_c36c_11e7_8894_8c85905ce123row30_col0\" class=\"data row30 col0\" >yours</td> \n",
       "        <td id=\"T_883d37b0_c36c_11e7_8894_8c85905ce123row30_col1\" class=\"data row30 col1\" >0</td> \n",
       "        <td id=\"T_883d37b0_c36c_11e7_8894_8c85905ce123row30_col2\" class=\"data row30 col2\" >0</td> \n",
       "        <td id=\"T_883d37b0_c36c_11e7_8894_8c85905ce123row30_col3\" class=\"data row30 col3\" >0</td> \n",
       "        <td id=\"T_883d37b0_c36c_11e7_8894_8c85905ce123row30_col4\" class=\"data row30 col4\" >0</td> \n",
       "    </tr></tbody> \n",
       "</table> "
      ],
      "text/plain": [
       "<pandas.io.formats.style.Styler at 0x1a22de91d0>"
      ]
     },
     "execution_count": 38,
     "metadata": {},
     "output_type": "execute_result"
    }
   ],
   "source": [
    "df = pd.DataFrame({'words' : badwords,\n",
    "                   'xh' : xh[ind],\n",
    "                   'xm' : xm[ind],\n",
    "                   'xu' : xu[ind],\n",
    "                   'delta' : np.round(diff).astype(int)})\n",
    "\n",
    "df[['words', 'xh', 'xm', 'xu', 'delta']].style.applymap(lambda(x) : 'color: red' if x > 0 else 'color: black', subset = ['delta'])"
   ]
  },
  {
   "cell_type": "markdown",
   "metadata": {},
   "source": [
    "## now the decrease in certainty"
   ]
  },
  {
   "cell_type": "markdown",
   "metadata": {},
   "source": [
    "Now let's look at Federalist #51, for which our estimated certainty went *down* by $e^{-15}$."
   ]
  },
  {
   "cell_type": "code",
   "execution_count": 39,
   "metadata": {},
   "outputs": [
    {
     "name": "stdout",
     "output_type": "stream",
     "text": [
      "[0 2 0 4 3 0 0 5 1 0 0 0 0 4 9 9 0 0 0 0 0 1 1 0 3 4 4 0 0 3 0]\n",
      "[0 0 0 0 0 0 0 0 0 0 0 0 0 0 0 0 0 1 0 0 0 0 0 0 0 0 0 0 0 0 0]\n"
     ]
    }
   ],
   "source": [
    "print xh[ind]\n",
    "print xm[ind]"
   ]
  },
  {
   "cell_type": "code",
   "execution_count": 40,
   "metadata": {},
   "outputs": [
    {
     "name": "stdout",
     "output_type": "stream",
     "text": [
      "[0 0 0 0 0 0 0 0 0 0 0 0 0 0 0 0 0 1 0 0 0 0 0 0 0 0 0 0 0 0 0]\n"
     ]
    }
   ],
   "source": [
    "nu, xu = measure('../authors/unknown-federalist/51.txt')\n",
    "print xu[ind]"
   ]
  },
  {
   "cell_type": "markdown",
   "metadata": {},
   "source": [
    "Here we see the opposite pattern: Federalist #51 contains the word \"moreover,\" which appears exactly once in Madison's training set, and never in Hamilton's.  In our original model, this word alone penalized Hamilton by a factor of one million, which is suspiciously close to $e^{15}$ after you allow for rounding errors.  Correcting our estimates for the true rates $\\mu_{\\text{M}}$ and $\\mu_{\\text{H}}$ significantly helped here.\n",
    "\n",
    "So the (huge) changes in log-likelihood all come from words which do not appear in Madison's training set, but which do appear in Hamilton's (or vice-versa).  In our first model, this meant we assumed a Poisson distribution with a mean rate $\\mu \\sim 10^{-6}$, which makes it excessively unlikely to *ever* see the word appear.  But just because Madison never used the word \"became\" in the training set, does that mean he's never allowed to use it, *ever*?  Of course not!  Moreover, the words which appear only once in the training set are the noisiest: that should be $1{\\pm}1$.  So it's ridicuous for us to have given them so much weight!\n",
    "\n",
    "So even though it's not technically correct to assume that $\\sigma$ and $\\tau$ are fundamental parameters, or that they follow the $\\beta$ distribution as Mosteller & Wallace did, this calculation improved things by effectively jittering the measured rates a little, making it so that zero isn't such a death sentence for the word.\n",
    "\n",
    "So we've done a Bayesian calculation for the priors inside a Bayesian calculation, and it really improved things... that's pretty cool!\n",
    "\n",
    "BUT, these numbers still seem very high... can we really say with that Madison wrote these papers with probability $(1-e^{-40})$?  The Achilles heel of the calculation is still our assumption of the Poisson distribution, which we haven't addressed yet.\n",
    "\n",
    "We'll tackle that in the next notebook, which will also remove the need for funky assumptions about $\\sigma$ and $\\tau$."
   ]
  }
 ],
 "metadata": {
  "kernelspec": {
   "display_name": "Python 2",
   "language": "python",
   "name": "python2"
  },
  "language_info": {
   "codemirror_mode": {
    "name": "ipython",
    "version": 2
   },
   "file_extension": ".py",
   "mimetype": "text/x-python",
   "name": "python",
   "nbconvert_exporter": "python",
   "pygments_lexer": "ipython2",
   "version": "2.7.14"
  }
 },
 "nbformat": 4,
 "nbformat_minor": 2
}
